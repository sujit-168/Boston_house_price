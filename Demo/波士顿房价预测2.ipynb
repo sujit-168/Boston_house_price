{
 "cells": [
  {
   "cell_type": "code",
   "execution_count": 1,
   "metadata": {},
   "outputs": [],
   "source": [
    "#要用到的包\n",
    "from sklearn.datasets import load_boston\n",
    "from sklearn.model_selection import train_test_split\n",
    "from sklearn.preprocessing import StandardScaler\n",
    "from sklearn.linear_model import LinearRegression\n",
    "from sklearn.metrics import mean_squared_error\n",
    "from sklearn.linear_model import SGDRegressor"
   ]
  },
  {
   "cell_type": "markdown",
   "metadata": {},
   "source": [
    "# 【正规方程优化的线性回归】"
   ]
  },
  {
   "cell_type": "markdown",
   "metadata": {},
   "source": [
    "# 1.获取数据 load_boston"
   ]
  },
  {
   "cell_type": "code",
   "execution_count": 2,
   "metadata": {},
   "outputs": [],
   "source": [
    "data = load_boston()"
   ]
  },
  {
   "cell_type": "markdown",
   "metadata": {},
   "source": [
    "# 2.数据基本处理 划分数据集和测试集"
   ]
  },
  {
   "cell_type": "code",
   "execution_count": 3,
   "metadata": {},
   "outputs": [],
   "source": [
    "x_train,x_test,y_train,y_test = train_test_split(data.data, data.target,test_size = 0.2, random_state = 10)#random_state = 10保证划分数据集一样的"
   ]
  },
  {
   "cell_type": "markdown",
   "metadata": {},
   "source": [
    "# 3.特征工程 标准化"
   ]
  },
  {
   "cell_type": "code",
   "execution_count": 4,
   "metadata": {},
   "outputs": [],
   "source": [
    "#用接口standardscaler\n",
    "transfer  = StandardScaler()\n",
    "x_train = transfer.fit_transform(x_train)\n",
    "x_test = transfer.fit_transform(x_test)"
   ]
  },
  {
   "cell_type": "markdown",
   "metadata": {},
   "source": [
    "# 4.机器学习 线性回归（正规方程优化的，梯度下降优化的）"
   ]
  },
  {
   "cell_type": "markdown",
   "metadata": {},
   "source": [
    "## 4.1创建模型 实例化估计器"
   ]
  },
  {
   "cell_type": "code",
   "execution_count": 5,
   "metadata": {},
   "outputs": [],
   "source": [
    "estimator = LinearRegression()"
   ]
  },
  {
   "cell_type": "markdown",
   "metadata": {},
   "source": [
    "## 4.2训练模型 fit 正规方程计算得到最优的可训练参数"
   ]
  },
  {
   "cell_type": "code",
   "execution_count": 6,
   "metadata": {},
   "outputs": [
    {
     "data": {
      "text/plain": [
       "LinearRegression(copy_X=True, fit_intercept=True, n_jobs=1, normalize=False)"
      ]
     },
     "execution_count": 6,
     "metadata": {},
     "output_type": "execute_result"
    }
   ],
   "source": [
    "estimator.fit(x_train,y_train)"
   ]
  },
  {
   "cell_type": "markdown",
   "metadata": {},
   "source": [
    "# 5.模型评估 MSE（均方误差，越小越好） 预测值和真实值都需要"
   ]
  },
  {
   "cell_type": "markdown",
   "metadata": {},
   "source": [
    "## 5.1获取预测值"
   ]
  },
  {
   "cell_type": "code",
   "execution_count": 7,
   "metadata": {},
   "outputs": [],
   "source": [
    "y_predict = estimator.predict(x_test)"
   ]
  },
  {
   "cell_type": "markdown",
   "metadata": {},
   "source": [
    "## 5.2计算MSE"
   ]
  },
  {
   "cell_type": "code",
   "execution_count": 8,
   "metadata": {},
   "outputs": [
    {
     "data": {
      "text/plain": [
       "48.29727763533454"
      ]
     },
     "execution_count": 8,
     "metadata": {},
     "output_type": "execute_result"
    }
   ],
   "source": [
    "mean_squared_error(y_pred=y_predict,y_true=y_test)#得到了均方误差，越小越好"
   ]
  },
  {
   "cell_type": "markdown",
   "metadata": {},
   "source": [
    "# 【梯度下降优化的线性回归】"
   ]
  },
  {
   "cell_type": "markdown",
   "metadata": {},
   "source": [
    "# 1.获取数据 load_boston"
   ]
  },
  {
   "cell_type": "code",
   "execution_count": 9,
   "metadata": {},
   "outputs": [],
   "source": [
    "data = load_boston()"
   ]
  },
  {
   "cell_type": "markdown",
   "metadata": {},
   "source": [
    "# 2.数据基本处理 划分数据集和测试集"
   ]
  },
  {
   "cell_type": "code",
   "execution_count": 10,
   "metadata": {},
   "outputs": [],
   "source": [
    "x_train,x_test,y_train,y_test = train_test_split(data.data, data.target,test_size = 0.2, random_state = 10)#random_state = 10保证划分数据集一样的"
   ]
  },
  {
   "cell_type": "markdown",
   "metadata": {},
   "source": [
    "# 3.特征工程 标准化"
   ]
  },
  {
   "cell_type": "code",
   "execution_count": 11,
   "metadata": {},
   "outputs": [],
   "source": [
    "#用接口standardscaler\n",
    "transfer  = StandardScaler()\n",
    "x_train = transfer.fit_transform(x_train)\n",
    "x_test = transfer.fit_transform(x_test)"
   ]
  },
  {
   "cell_type": "markdown",
   "metadata": {},
   "source": [
    "# 4.机器学习 线性回归（正规方程优化的，梯度下降优化的）"
   ]
  },
  {
   "cell_type": "markdown",
   "metadata": {},
   "source": [
    "## 4.1创建模型 实例化估计器"
   ]
  },
  {
   "cell_type": "code",
   "execution_count": 12,
   "metadata": {},
   "outputs": [],
   "source": [
    "estimator = SGDRegressor(max_iter=1000,tol=0.001)#tol=0.001是指的是每次迭代是否损失函数越来越小，如果损失函数的值小于0.001的话就停止迭代"
   ]
  },
  {
   "cell_type": "markdown",
   "metadata": {},
   "source": [
    "## 4.2训练模型 fit 正规方程计算得到最优的可训练参数"
   ]
  },
  {
   "cell_type": "code",
   "execution_count": 13,
   "metadata": {},
   "outputs": [
    {
     "data": {
      "text/plain": [
       "SGDRegressor(alpha=0.0001, average=False, epsilon=0.1, eta0=0.01,\n",
       "       fit_intercept=True, l1_ratio=0.15, learning_rate='invscaling',\n",
       "       loss='squared_loss', max_iter=1000, n_iter=None, penalty='l2',\n",
       "       power_t=0.25, random_state=None, shuffle=True, tol=0.001, verbose=0,\n",
       "       warm_start=False)"
      ]
     },
     "execution_count": 13,
     "metadata": {},
     "output_type": "execute_result"
    }
   ],
   "source": [
    "estimator.fit(x_train,y_train)"
   ]
  },
  {
   "cell_type": "markdown",
   "metadata": {},
   "source": [
    "# 5.模型评估 MSE（均方误差，越小越好） 预测值和真实值都需要"
   ]
  },
  {
   "cell_type": "markdown",
   "metadata": {},
   "source": [
    "## 5.1获取预测值"
   ]
  },
  {
   "cell_type": "code",
   "execution_count": 14,
   "metadata": {},
   "outputs": [],
   "source": [
    "y_predict = estimator.predict(x_test)"
   ]
  },
  {
   "cell_type": "markdown",
   "metadata": {},
   "source": [
    "## 5.2计算MSE"
   ]
  },
  {
   "cell_type": "code",
   "execution_count": 15,
   "metadata": {},
   "outputs": [
    {
     "data": {
      "text/plain": [
       "48.078608123312144"
      ]
     },
     "execution_count": 15,
     "metadata": {},
     "output_type": "execute_result"
    }
   ],
   "source": [
    "mean_squared_error(y_pred=y_predict,y_true=y_test)#得到了均方误差，越小越好"
   ]
  },
  {
   "cell_type": "code",
   "execution_count": null,
   "metadata": {},
   "outputs": [],
   "source": []
  },
  {
   "cell_type": "markdown",
   "metadata": {},
   "source": [
    "# 【波士顿房价正则化岭回归预测代码实现】"
   ]
  },
  {
   "cell_type": "code",
   "execution_count": 16,
   "metadata": {},
   "outputs": [],
   "source": [
    "#要用到的包\n",
    "from sklearn.datasets import load_boston\n",
    "from sklearn.model_selection import train_test_split\n",
    "from sklearn.preprocessing import StandardScaler\n",
    "from sklearn.linear_model import LinearRegression\n",
    "from sklearn.metrics import mean_squared_error\n",
    "from sklearn.linear_model import SGDRegressor\n",
    "from sklearn.linear_model import Ridge#导入岭回归"
   ]
  },
  {
   "cell_type": "code",
   "execution_count": 17,
   "metadata": {},
   "outputs": [
    {
     "name": "stdout",
     "output_type": "stream",
     "text": [
      "预测值为:\n",
      " [28.14336439 31.29120593 20.54384341 31.45949883 19.05713232 18.25154031\n",
      " 20.59333004 18.46668579 18.49439324 32.90278303 20.39074387 27.19391547\n",
      " 14.82896742 19.22647169 36.99680592 18.30216415  7.77234952 17.59204777\n",
      " 30.20233488 23.61819202 18.13165677 33.80976641 28.45514573 16.97450477\n",
      " 34.72448519 26.19876013 34.77528305 26.63056236 18.62636595 13.34630747\n",
      " 30.34386216 14.5911294  37.18589518  8.96603866 15.1046276  16.0870778\n",
      "  7.2410686  19.13817477 39.5390249  28.27770546 24.63218813 16.74118324\n",
      " 37.8401846   5.70041018 21.17142785 24.60567485 18.90535427 19.95506965\n",
      " 15.19437924 26.28324334  7.54840338 27.10725806 29.18271353 16.27866225\n",
      "  7.9813597  35.42054763 32.2845617  20.95634259 16.43407021 20.88411873\n",
      " 22.93442975 23.58724813 19.3655118  38.2810092  23.98858525 18.95166781\n",
      " 12.62360991  6.12834839 41.45200493 21.09795707 16.19808353 21.5210458\n",
      " 40.71914496 20.54014744 36.78495192 27.02863306 19.9217193  19.64062326\n",
      " 24.60418297 21.26677099 30.94032672 19.33770303 22.30888436 31.07881055\n",
      " 26.39477737 20.24104002 28.79548502 20.86317185 26.04545844 19.2573741\n",
      " 24.92683599 22.29008698 18.92825484 18.92207977 14.04840276 17.41630198\n",
      " 24.16632188 15.83303972 20.04416558 26.5192807  20.10159263 17.02240369\n",
      " 23.84898152 22.82854834 20.89047727 36.1141591  14.72135442 20.67674724\n",
      " 32.4387071  33.1767914  19.81979219 26.46158288 20.97213033 16.46431333\n",
      " 20.7661367  20.59296518 26.86196155 24.18675233 23.22897169 13.78214313\n",
      " 15.38170591  2.77742469 28.88657667 19.78630135 21.50773167 27.54387951\n",
      " 28.49827366]\n",
      "模型中的系数为:\n",
      " [-0.62113007  1.11962804 -0.09020315  0.74692857 -1.92185544  2.71649332\n",
      " -0.08404963 -3.25764933  2.40502586 -1.76845144 -1.7441452   0.88008135\n",
      " -3.904193  ]\n",
      "模型中的偏置为:\n",
      " 22.62137203166228\n",
      "误差为:\n",
      " 20.064425628224868\n"
     ]
    }
   ],
   "source": [
    "# 1.获取数据 laod_boston bunch字典\n",
    "data = load_boston()\n",
    "\n",
    "# 2.数据集划分 数据的基本处理\n",
    "x_train, x_test, y_train, y_test = train_test_split(data.data, data.target, random_state=22)\n",
    "\n",
    "# 3.特征工程-标准化\n",
    "transfer = StandardScaler()\n",
    "x_train = transfer.fit_transform(x_train)\n",
    "x_test = transfer.fit_transform(x_test)\n",
    "\n",
    "# 4.机器学习-线性回归(岭回归)【重要】\n",
    "# 4.1 创建模型 实例化估计器\n",
    "estimator = Ridge(alpha=1)#(alpha表示正则的程度）\n",
    "# 4.2 训练模型 fit 正规方程计算得到最优可训练参数\n",
    "estimator.fit(x_train, y_train)\n",
    "\n",
    "# 5.模型评估\n",
    "# 5.1 获取系数等值\n",
    "y_predict = estimator.predict(x_test)\n",
    "print(\"预测值为:\\n\", y_predict)\n",
    "print(\"模型中的系数为:\\n\", estimator.coef_)\n",
    "print(\"模型中的偏置为:\\n\", estimator.intercept_)\n",
    "\n",
    "# 5.2 评价\n",
    "# 均方误差\n",
    "error = mean_squared_error(y_test, y_predict)\n",
    "print(\"误差为:\\n\", error)"
   ]
  },
  {
   "cell_type": "markdown",
   "metadata": {},
   "source": [
    "# 【实现模型的保存于加载】"
   ]
  },
  {
   "cell_type": "code",
   "execution_count": 18,
   "metadata": {},
   "outputs": [],
   "source": [
    "#要用到的包\n",
    "from sklearn.datasets import load_boston\n",
    "from sklearn.model_selection import train_test_split\n",
    "from sklearn.preprocessing import StandardScaler\n",
    "from sklearn.linear_model import LinearRegression\n",
    "from sklearn.metrics import mean_squared_error\n",
    "from sklearn.linear_model import SGDRegressor\n",
    "from sklearn.linear_model import Ridge#导入岭回归\n",
    "from sklearn.externals import joblib#模型的保存和加载 "
   ]
  },
  {
   "cell_type": "markdown",
   "metadata": {},
   "source": [
    "## 保存模型"
   ]
  },
  {
   "cell_type": "code",
   "execution_count": 19,
   "metadata": {},
   "outputs": [
    {
     "name": "stdout",
     "output_type": "stream",
     "text": [
      "预测值为:\n",
      " [28.14336439 31.29120593 20.54384341 31.45949883 19.05713232 18.25154031\n",
      " 20.59333004 18.46668579 18.49439324 32.90278303 20.39074387 27.19391547\n",
      " 14.82896742 19.22647169 36.99680592 18.30216415  7.77234952 17.59204777\n",
      " 30.20233488 23.61819202 18.13165677 33.80976641 28.45514573 16.97450477\n",
      " 34.72448519 26.19876013 34.77528305 26.63056236 18.62636595 13.34630747\n",
      " 30.34386216 14.5911294  37.18589518  8.96603866 15.1046276  16.0870778\n",
      "  7.2410686  19.13817477 39.5390249  28.27770546 24.63218813 16.74118324\n",
      " 37.8401846   5.70041018 21.17142785 24.60567485 18.90535427 19.95506965\n",
      " 15.19437924 26.28324334  7.54840338 27.10725806 29.18271353 16.27866225\n",
      "  7.9813597  35.42054763 32.2845617  20.95634259 16.43407021 20.88411873\n",
      " 22.93442975 23.58724813 19.3655118  38.2810092  23.98858525 18.95166781\n",
      " 12.62360991  6.12834839 41.45200493 21.09795707 16.19808353 21.5210458\n",
      " 40.71914496 20.54014744 36.78495192 27.02863306 19.9217193  19.64062326\n",
      " 24.60418297 21.26677099 30.94032672 19.33770303 22.30888436 31.07881055\n",
      " 26.39477737 20.24104002 28.79548502 20.86317185 26.04545844 19.2573741\n",
      " 24.92683599 22.29008698 18.92825484 18.92207977 14.04840276 17.41630198\n",
      " 24.16632188 15.83303972 20.04416558 26.5192807  20.10159263 17.02240369\n",
      " 23.84898152 22.82854834 20.89047727 36.1141591  14.72135442 20.67674724\n",
      " 32.4387071  33.1767914  19.81979219 26.46158288 20.97213033 16.46431333\n",
      " 20.7661367  20.59296518 26.86196155 24.18675233 23.22897169 13.78214313\n",
      " 15.38170591  2.77742469 28.88657667 19.78630135 21.50773167 27.54387951\n",
      " 28.49827366]\n",
      "模型中的系数为:\n",
      " [-0.62113007  1.11962804 -0.09020315  0.74692857 -1.92185544  2.71649332\n",
      " -0.08404963 -3.25764933  2.40502586 -1.76845144 -1.7441452   0.88008135\n",
      " -3.904193  ]\n",
      "模型中的偏置为:\n",
      " 22.62137203166228\n",
      "误差为:\n",
      " 20.064425628224868\n"
     ]
    },
    {
     "name": "stderr",
     "output_type": "stream",
     "text": [
      "/opt/conda/lib/python3.6/site-packages/sklearn/externals/joblib/numpy_pickle.py:93: DeprecationWarning: tostring() is deprecated. Use tobytes() instead.\n",
      "  pickler.file_handle.write(chunk.tostring('C'))\n"
     ]
    }
   ],
   "source": [
    "# 1.获取数据 laod_boston bunch字典\n",
    "data = load_boston()\n",
    "\n",
    "# 2.数据集划分 数据的基本处理\n",
    "x_train, x_test, y_train, y_test = train_test_split(data.data, data.target, random_state=22)\n",
    "\n",
    "# 3.特征工程-标准化\n",
    "transfer = StandardScaler()\n",
    "x_train = transfer.fit_transform(x_train)\n",
    "x_test = transfer.fit_transform(x_test)\n",
    "\n",
    "# 4.机器学习-线性回归(岭回归)【重要】\n",
    "# 4.1 创建模型 实例化估计器\n",
    "estimator = Ridge(alpha=1)#(alpha表示正则的程度）\n",
    "# 4.2 训练模型 fit 正规方程计算得到最优可训练参数\n",
    "estimator.fit(x_train, y_train)\n",
    "\n",
    "#保存模型\n",
    "joblib.dump(estimator,'./test.pkl')#注意用文本打开是错误的，只能加载！！\n",
    "\n",
    "# 5.模型评估\n",
    "# 5.1 获取系数等值\n",
    "y_predict = estimator.predict(x_test)\n",
    "print(\"预测值为:\\n\", y_predict)\n",
    "print(\"模型中的系数为:\\n\", estimator.coef_)\n",
    "print(\"模型中的偏置为:\\n\", estimator.intercept_)\n",
    "\n",
    "# 5.2 评价\n",
    "# 均方误差\n",
    "error = mean_squared_error(y_test, y_predict)\n",
    "print(\"误差为:\\n\", error)"
   ]
  },
  {
   "cell_type": "markdown",
   "metadata": {},
   "source": [
    "## 加载模型"
   ]
  },
  {
   "cell_type": "code",
   "execution_count": 20,
   "metadata": {},
   "outputs": [
    {
     "name": "stdout",
     "output_type": "stream",
     "text": [
      "预测值为:\n",
      " [28.14336439 31.29120593 20.54384341 31.45949883 19.05713232 18.25154031\n",
      " 20.59333004 18.46668579 18.49439324 32.90278303 20.39074387 27.19391547\n",
      " 14.82896742 19.22647169 36.99680592 18.30216415  7.77234952 17.59204777\n",
      " 30.20233488 23.61819202 18.13165677 33.80976641 28.45514573 16.97450477\n",
      " 34.72448519 26.19876013 34.77528305 26.63056236 18.62636595 13.34630747\n",
      " 30.34386216 14.5911294  37.18589518  8.96603866 15.1046276  16.0870778\n",
      "  7.2410686  19.13817477 39.5390249  28.27770546 24.63218813 16.74118324\n",
      " 37.8401846   5.70041018 21.17142785 24.60567485 18.90535427 19.95506965\n",
      " 15.19437924 26.28324334  7.54840338 27.10725806 29.18271353 16.27866225\n",
      "  7.9813597  35.42054763 32.2845617  20.95634259 16.43407021 20.88411873\n",
      " 22.93442975 23.58724813 19.3655118  38.2810092  23.98858525 18.95166781\n",
      " 12.62360991  6.12834839 41.45200493 21.09795707 16.19808353 21.5210458\n",
      " 40.71914496 20.54014744 36.78495192 27.02863306 19.9217193  19.64062326\n",
      " 24.60418297 21.26677099 30.94032672 19.33770303 22.30888436 31.07881055\n",
      " 26.39477737 20.24104002 28.79548502 20.86317185 26.04545844 19.2573741\n",
      " 24.92683599 22.29008698 18.92825484 18.92207977 14.04840276 17.41630198\n",
      " 24.16632188 15.83303972 20.04416558 26.5192807  20.10159263 17.02240369\n",
      " 23.84898152 22.82854834 20.89047727 36.1141591  14.72135442 20.67674724\n",
      " 32.4387071  33.1767914  19.81979219 26.46158288 20.97213033 16.46431333\n",
      " 20.7661367  20.59296518 26.86196155 24.18675233 23.22897169 13.78214313\n",
      " 15.38170591  2.77742469 28.88657667 19.78630135 21.50773167 27.54387951\n",
      " 28.49827366]\n",
      "模型中的系数为:\n",
      " [-0.62113007  1.11962804 -0.09020315  0.74692857 -1.92185544  2.71649332\n",
      " -0.08404963 -3.25764933  2.40502586 -1.76845144 -1.7441452   0.88008135\n",
      " -3.904193  ]\n",
      "模型中的偏置为:\n",
      " 22.62137203166228\n",
      "误差为:\n",
      " 20.064425628224868\n"
     ]
    }
   ],
   "source": [
    "# 1.获取数据 laod_boston bunch字典\n",
    "data = load_boston()\n",
    "\n",
    "# 2.数据集划分 数据的基本处理\n",
    "x_train, x_test, y_train, y_test = train_test_split(data.data, data.target, random_state=22)\n",
    "\n",
    "# 3.特征工程-标准化\n",
    "transfer = StandardScaler()\n",
    "x_train = transfer.fit_transform(x_train)\n",
    "x_test = transfer.fit_transform(x_test)\n",
    "\n",
    "# # 4.机器学习-线性回归(岭回归)【重要】\n",
    "# # 4.1 创建模型 实例化估计器\n",
    "# estimator = Ridge(alpha=1)#(alpha表示正则的程度）\n",
    "# # 4.2 训练模型 fit 正规方程计算得到最优可训练参数\n",
    "# estimator.fit(x_train, y_train)\n",
    "\n",
    "# #保存模型\n",
    "# joblib.dump(estimator,'./test.pkl')#注意用文本打开是错误的，只能加载！！\n",
    "\n",
    "\n",
    "## 加载模型\n",
    "estimator = joblib.load('./test.pkl')\n",
    "\n",
    "# 5.模型评估\n",
    "# 5.1 获取系数等值\n",
    "y_predict = estimator.predict(x_test)\n",
    "print(\"预测值为:\\n\", y_predict)\n",
    "print(\"模型中的系数为:\\n\", estimator.coef_)\n",
    "print(\"模型中的偏置为:\\n\", estimator.intercept_)\n",
    "\n",
    "# 5.2 评价\n",
    "# 均方误差\n",
    "error = mean_squared_error(y_test, y_predict)\n",
    "print(\"误差为:\\n\", error)\n"
   ]
  }
 ],
 "metadata": {
  "kernelspec": {
   "display_name": "Python 3",
   "language": "python",
   "name": "python3"
  },
  "language_info": {
   "codemirror_mode": {
    "name": "ipython",
    "version": 3
   },
   "file_extension": ".py",
   "mimetype": "text/x-python",
   "name": "python",
   "nbconvert_exporter": "python",
   "pygments_lexer": "ipython3",
   "version": "3.6.5"
  }
 },
 "nbformat": 4,
 "nbformat_minor": 4
}
