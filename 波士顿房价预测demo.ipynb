{
  "nbformat": 4,
  "nbformat_minor": 0,
  "metadata": {
    "kernelspec": {
      "display_name": "Python 3",
      "language": "python",
      "name": "python3"
    },
    "language_info": {
      "codemirror_mode": {
        "name": "ipython",
        "version": 3
      },
      "file_extension": ".py",
      "mimetype": "text/x-python",
      "name": "python",
      "nbconvert_exporter": "python",
      "pygments_lexer": "ipython3",
      "version": "3.6.5"
    },
    "tianchi_metadata": {
      "competitions": [],
      "datasets": [],
      "description": "",
      "notebookId": "204137",
      "source": "dsw"
    },
    "colab": {
      "name": "波士顿房价预测demo.ipynb",
      "provenance": [],
      "include_colab_link": true
    }
  },
  "cells": [
    {
      "cell_type": "markdown",
      "metadata": {
        "id": "view-in-github",
        "colab_type": "text"
      },
      "source": [
        "<a href=\"https://colab.research.google.com/github/sujit-168/Boston_house_price/blob/main/%E6%B3%A2%E5%A3%AB%E9%A1%BF%E6%88%BF%E4%BB%B7%E9%A2%84%E6%B5%8Bdemo.ipynb\" target=\"_parent\"><img src=\"https://colab.research.google.com/assets/colab-badge.svg\" alt=\"Open In Colab\"/></a>"
      ]
    },
    {
      "cell_type": "code",
      "metadata": {
        "uuid": "fcb3c43a-4288-4166-a597-a54207c7f6b5",
        "id": "jpUOXa_NyKW5"
      },
      "source": [
        "# 查看当前kernel下已安装的包  list packages\n",
        "#!pip list --format=columns"
      ],
      "execution_count": null,
      "outputs": []
    },
    {
      "cell_type": "code",
      "metadata": {
        "id": "ClbAvwpXyOJO",
        "colab": {
          "base_uri": "https://localhost:8080/"
        },
        "outputId": "7703e32d-4182-4569-a0b4-25f150e5cfd4"
      },
      "source": [
        "!git clone https://github.com/sujit-168/Boston_house_price.git"
      ],
      "execution_count": null,
      "outputs": [
        {
          "output_type": "stream",
          "text": [
            "Cloning into 'Boston_house_price'...\n",
            "remote: Enumerating objects: 37, done.\u001b[K\n",
            "remote: Counting objects: 100% (37/37), done.\u001b[K\n",
            "remote: Compressing objects: 100% (34/34), done.\u001b[K\n",
            "remote: Total 37 (delta 3), reused 30 (delta 2), pack-reused 0\u001b[K\n",
            "Unpacking objects: 100% (37/37), done.\n"
          ],
          "name": "stdout"
        }
      ]
    },
    {
      "cell_type": "code",
      "metadata": {
        "uuid": "21e3b2f8-265e-4a6f-bf04-0fdcd280cdd2",
        "id": "rEuW0A5vyKXA"
      },
      "source": [
        "#!git clone https://github.com/basaraking1221/Boston_house_price.git"
      ],
      "execution_count": null,
      "outputs": []
    },
    {
      "cell_type": "code",
      "metadata": {
        "uuid": "c2aefec7-4034-4437-8d03-d83b2efe21da",
        "id": "nVQPpKJFyKXB"
      },
      "source": [
        "#!git clone https://github.com/w1449550206/Boston-house-price-forecast.git"
      ],
      "execution_count": null,
      "outputs": []
    },
    {
      "cell_type": "code",
      "metadata": {
        "uuid": "6ab288f9-d4e5-45a8-8077-18ef3b4488fe",
        "id": "xZvgUifCyKXC",
        "outputId": "09e22f59-91db-4ec8-9ff8-9937db641b0b"
      },
      "source": [
        "!python --version"
      ],
      "execution_count": null,
      "outputs": [
        {
          "output_type": "stream",
          "text": [
            "Python 2.7.5\n"
          ],
          "name": "stdout"
        }
      ]
    },
    {
      "cell_type": "code",
      "metadata": {
        "uuid": "e6561aac-ba7b-49b1-99ab-ab6fbf48a824",
        "id": "e-tRyK7ByKXC"
      },
      "source": [
        "#检查是否搭载显卡\n",
        "#!nvidia-smi"
      ],
      "execution_count": null,
      "outputs": []
    },
    {
      "cell_type": "code",
      "metadata": {
        "uuid": "844c73f8-7972-4f5c-9cca-5a44d1c2b386",
        "id": "2zDDUISCyKXD",
        "colab": {
          "base_uri": "https://localhost:8080/"
        },
        "outputId": "3d044b06-23a4-4a59-f2c7-14940c148d66"
      },
      "source": [
        "# sns.histplot(train_data[col[index]],ax = ax[i][j])\n",
        "# AttributeError: module 'seaborn' has no attribute 'histplot'\n",
        "# displot() has been introduced in Seaborn v0.11.0\n",
        "\n",
        "!pip list --outdated #检查哪些包需要更新\n",
        "!pip install --upgrade seaborn    #要升级的包名\n",
        "# pip uninstall 要卸载的包名\n",
        "#!pip show --files seaborn #安装包名"
      ],
      "execution_count": null,
      "outputs": [
        {
          "output_type": "stream",
          "text": [
            "\u001b[31mERROR: Operation cancelled by user\u001b[0m\n",
            "Requirement already up-to-date: seaborn in /usr/local/lib/python3.7/dist-packages (0.11.1)\n",
            "Requirement already satisfied, skipping upgrade: matplotlib>=2.2 in /usr/local/lib/python3.7/dist-packages (from seaborn) (3.2.2)\n",
            "Requirement already satisfied, skipping upgrade: scipy>=1.0 in /usr/local/lib/python3.7/dist-packages (from seaborn) (1.4.1)\n",
            "Requirement already satisfied, skipping upgrade: pandas>=0.23 in /usr/local/lib/python3.7/dist-packages (from seaborn) (1.1.5)\n",
            "Requirement already satisfied, skipping upgrade: numpy>=1.15 in /usr/local/lib/python3.7/dist-packages (from seaborn) (1.19.5)\n",
            "Requirement already satisfied, skipping upgrade: cycler>=0.10 in /usr/local/lib/python3.7/dist-packages (from matplotlib>=2.2->seaborn) (0.10.0)\n",
            "Requirement already satisfied, skipping upgrade: python-dateutil>=2.1 in /usr/local/lib/python3.7/dist-packages (from matplotlib>=2.2->seaborn) (2.8.1)\n",
            "Requirement already satisfied, skipping upgrade: pyparsing!=2.0.4,!=2.1.2,!=2.1.6,>=2.0.1 in /usr/local/lib/python3.7/dist-packages (from matplotlib>=2.2->seaborn) (2.4.7)\n",
            "Requirement already satisfied, skipping upgrade: kiwisolver>=1.0.1 in /usr/local/lib/python3.7/dist-packages (from matplotlib>=2.2->seaborn) (1.3.1)\n",
            "Requirement already satisfied, skipping upgrade: pytz>=2017.2 in /usr/local/lib/python3.7/dist-packages (from pandas>=0.23->seaborn) (2018.9)\n",
            "Requirement already satisfied, skipping upgrade: six in /usr/local/lib/python3.7/dist-packages (from cycler>=0.10->matplotlib>=2.2->seaborn) (1.15.0)\n"
          ],
          "name": "stdout"
        }
      ]
    },
    {
      "cell_type": "code",
      "metadata": {
        "uuid": "c04cc48a-b287-4c6f-84df-e902501f61e9",
        "id": "nqxe679jyKXD"
      },
      "source": [
        "import seaborn as sns\n",
        "##用于可视化图表\n",
        "import matplotlib.pyplot as plt\n",
        "##用于做科学计算\n",
        "import numpy as np\n",
        "##用于做数据分析\n",
        "import pandas as pd\n",
        "##用于加载数据或生成数据等"
      ],
      "execution_count": null,
      "outputs": []
    },
    {
      "cell_type": "code",
      "metadata": {
        "uuid": "1fa67f6b-01a6-49aa-9191-8c476f84b727",
        "id": "zwBvRVW-yKXE"
      },
      "source": [
        "from sklearn import datasets\n",
        "##加载线性模型\n",
        "from sklearn import linear_model\n",
        "###用于交叉验证以及训练集和测试集的划分\n",
        "#from sklearn.cross_validation import train_test_split\n",
        "from sklearn.model_selection import cross_val_predict\n",
        "###这个模块中含有评分函数，性能度量，距离计算等\n",
        "from sklearn import metrics\n",
        "#from sklearn.cross_validation import ShuffleSplit"
      ],
      "execution_count": null,
      "outputs": []
    },
    {
      "cell_type": "code",
      "metadata": {
        "uuid": "1e53433a-6ef7-4032-82de-76332805ff62",
        "id": "JGI9p_akyKXE",
        "colab": {
          "base_uri": "https://localhost:8080/"
        },
        "outputId": "226947f2-0a28-4871-bb95-e13cceda4fd1"
      },
      "source": [
        "!ls\n",
        "%cd Boston_house_price\n",
        "%cd /content/Boston_house_price/Demo\n",
        "!ls"
      ],
      "execution_count": null,
      "outputs": [
        {
          "output_type": "stream",
          "text": [
            "Demo  LICENSE  README.md\n",
            "[Errno 2] No such file or directory: 'Boston_house_price'\n",
            "/content/Boston_house_price\n",
            "/content/Boston_house_price/Demo\n",
            "bostonh.csv\t\tpredictions_Vs_ytest.png  visuals.py\n",
            "bostonh.txt\t\tprice.eps\t\t  波士顿房价预测1.ipynb\n",
            "data——introduction.jpg\tprice.png\t\t  波士顿房价预测2.ipynb\n",
            "model.pkl\t\ttest.pkl\t\t  波士顿房价预测.html\n",
            "output\t\t\ttrain\n"
          ],
          "name": "stdout"
        }
      ]
    },
    {
      "cell_type": "code",
      "metadata": {
        "uuid": "96b0acb2-4ca3-4f90-838f-5cb17d21259a",
        "id": "mSeESlqTyKXF",
        "colab": {
          "base_uri": "https://localhost:8080/",
          "height": 195
        },
        "outputId": "5c00f46d-c5ad-4750-d925-1624a7d8f987"
      },
      "source": [
        "#读取txt文件，并转换为csv文件\n",
        "data_txt = pd.read_csv('bostonh.txt',sep='\\t')\n",
        "data_txt.to_csv('bostonh.csv',index=False)  \n",
        "\n",
        "# 导入数据集并查看csv数据\n",
        "train_data=pd.read_csv('bostonh.csv',sep='\\s+',encoding='utf-8')\n",
        "train_data.head()\n",
        "# 导入数据集并查看txt数据\n",
        "#train_data2=pd.read_table('bostonh.txt',encoding='utf-8')\n",
        "#train_data2.head()"
      ],
      "execution_count": null,
      "outputs": [
        {
          "output_type": "execute_result",
          "data": {
            "text/html": [
              "<div>\n",
              "<style scoped>\n",
              "    .dataframe tbody tr th:only-of-type {\n",
              "        vertical-align: middle;\n",
              "    }\n",
              "\n",
              "    .dataframe tbody tr th {\n",
              "        vertical-align: top;\n",
              "    }\n",
              "\n",
              "    .dataframe thead th {\n",
              "        text-align: right;\n",
              "    }\n",
              "</style>\n",
              "<table border=\"1\" class=\"dataframe\">\n",
              "  <thead>\n",
              "    <tr style=\"text-align: right;\">\n",
              "      <th></th>\n",
              "      <th>CRIM</th>\n",
              "      <th>ZN</th>\n",
              "      <th>INDUS</th>\n",
              "      <th>CHAS</th>\n",
              "      <th>NOX</th>\n",
              "      <th>RM</th>\n",
              "      <th>AGE</th>\n",
              "      <th>DIS</th>\n",
              "      <th>RAD</th>\n",
              "      <th>TAX</th>\n",
              "      <th>PTRATIO</th>\n",
              "      <th>B</th>\n",
              "      <th>LSTAT</th>\n",
              "      <th>MEDV</th>\n",
              "    </tr>\n",
              "  </thead>\n",
              "  <tbody>\n",
              "    <tr>\n",
              "      <th>0</th>\n",
              "      <td>0.00632</td>\n",
              "      <td>18.0</td>\n",
              "      <td>2.31</td>\n",
              "      <td>0</td>\n",
              "      <td>0.538</td>\n",
              "      <td>6.575</td>\n",
              "      <td>65.2</td>\n",
              "      <td>4.0900</td>\n",
              "      <td>1</td>\n",
              "      <td>296.0</td>\n",
              "      <td>15.3</td>\n",
              "      <td>396.90</td>\n",
              "      <td>4.98</td>\n",
              "      <td>24.0</td>\n",
              "    </tr>\n",
              "    <tr>\n",
              "      <th>1</th>\n",
              "      <td>0.02731</td>\n",
              "      <td>0.0</td>\n",
              "      <td>7.07</td>\n",
              "      <td>0</td>\n",
              "      <td>0.469</td>\n",
              "      <td>6.421</td>\n",
              "      <td>78.9</td>\n",
              "      <td>4.9671</td>\n",
              "      <td>2</td>\n",
              "      <td>242.0</td>\n",
              "      <td>17.8</td>\n",
              "      <td>396.90</td>\n",
              "      <td>9.14</td>\n",
              "      <td>21.6</td>\n",
              "    </tr>\n",
              "    <tr>\n",
              "      <th>2</th>\n",
              "      <td>0.02729</td>\n",
              "      <td>0.0</td>\n",
              "      <td>7.07</td>\n",
              "      <td>0</td>\n",
              "      <td>0.469</td>\n",
              "      <td>7.185</td>\n",
              "      <td>61.1</td>\n",
              "      <td>4.9671</td>\n",
              "      <td>2</td>\n",
              "      <td>242.0</td>\n",
              "      <td>17.8</td>\n",
              "      <td>392.83</td>\n",
              "      <td>4.03</td>\n",
              "      <td>34.7</td>\n",
              "    </tr>\n",
              "    <tr>\n",
              "      <th>3</th>\n",
              "      <td>0.03237</td>\n",
              "      <td>0.0</td>\n",
              "      <td>2.18</td>\n",
              "      <td>0</td>\n",
              "      <td>0.458</td>\n",
              "      <td>6.998</td>\n",
              "      <td>45.8</td>\n",
              "      <td>6.0622</td>\n",
              "      <td>3</td>\n",
              "      <td>222.0</td>\n",
              "      <td>18.7</td>\n",
              "      <td>394.63</td>\n",
              "      <td>2.94</td>\n",
              "      <td>33.4</td>\n",
              "    </tr>\n",
              "    <tr>\n",
              "      <th>4</th>\n",
              "      <td>0.06905</td>\n",
              "      <td>0.0</td>\n",
              "      <td>2.18</td>\n",
              "      <td>0</td>\n",
              "      <td>0.458</td>\n",
              "      <td>7.147</td>\n",
              "      <td>54.2</td>\n",
              "      <td>6.0622</td>\n",
              "      <td>3</td>\n",
              "      <td>222.0</td>\n",
              "      <td>18.7</td>\n",
              "      <td>396.90</td>\n",
              "      <td>5.33</td>\n",
              "      <td>36.2</td>\n",
              "    </tr>\n",
              "  </tbody>\n",
              "</table>\n",
              "</div>"
            ],
            "text/plain": [
              "      CRIM    ZN  INDUS  CHAS    NOX  ...    TAX  PTRATIO       B  LSTAT  MEDV\n",
              "0  0.00632  18.0   2.31     0  0.538  ...  296.0     15.3  396.90   4.98  24.0\n",
              "1  0.02731   0.0   7.07     0  0.469  ...  242.0     17.8  396.90   9.14  21.6\n",
              "2  0.02729   0.0   7.07     0  0.469  ...  242.0     17.8  392.83   4.03  34.7\n",
              "3  0.03237   0.0   2.18     0  0.458  ...  222.0     18.7  394.63   2.94  33.4\n",
              "4  0.06905   0.0   2.18     0  0.458  ...  222.0     18.7  396.90   5.33  36.2\n",
              "\n",
              "[5 rows x 14 columns]"
            ]
          },
          "metadata": {
            "tags": []
          },
          "execution_count": 11
        }
      ]
    },
    {
      "cell_type": "code",
      "metadata": {
        "uuid": "29ad2f27-2c34-4c6d-a7f3-c0a1929abd76",
        "id": "jvRT3H2ayKXF",
        "colab": {
          "base_uri": "https://localhost:8080/"
        },
        "outputId": "ba6522f2-3538-4c8e-c6e5-a4a80f1691c9"
      },
      "source": [
        "a=['CRIM:城镇的人均犯罪率','ZN:大于25,000平方英尺的地块的住宅用地比例','INDUS:每个镇的非零售业务英亩的比例','CHAS:查尔斯河虚拟变量（如果环河，则等于1；否则等于0）'\n",
        "   ,'NOX:一氧化氮的浓度','RM:每个住宅的平均房间数','AGE:1940年之前建造的自有住房的比例','DIS:到五个波士顿就业中心的加权距离','RAD:径向公路通达性的指标'\n",
        "   ,'TAX:每$ 10,000的全值财产税率','PTRATIO:各镇的师生比率','B:计算方法为1000（Bk-0.63）²，其中Bk是按城镇划分的非裔美国人的比例','LSTAT:底层人口的百分比',\n",
        "  'MEDV:自有住房数的中位数，单位为$ 1000']\n",
        "for i in a:\n",
        "    print(i)"
      ],
      "execution_count": null,
      "outputs": [
        {
          "output_type": "stream",
          "text": [
            "CRIM:城镇的人均犯罪率\n",
            "ZN:大于25,000平方英尺的地块的住宅用地比例\n",
            "INDUS:每个镇的非零售业务英亩的比例\n",
            "CHAS:查尔斯河虚拟变量（如果环河，则等于1；否则等于0）\n",
            "NOX:一氧化氮的浓度\n",
            "RM:每个住宅的平均房间数\n",
            "AGE:1940年之前建造的自有住房的比例\n",
            "DIS:到五个波士顿就业中心的加权距离\n",
            "RAD:径向公路通达性的指标\n",
            "TAX:每$ 10,000的全值财产税率\n",
            "PTRATIO:各镇的师生比率\n",
            "B:计算方法为1000（Bk-0.63）²，其中Bk是按城镇划分的非裔美国人的比例\n",
            "LSTAT:底层人口的百分比\n",
            "MEDV:自有住房数的中位数，单位为$ 1000\n"
          ],
          "name": "stdout"
        }
      ]
    },
    {
      "cell_type": "code",
      "metadata": {
        "uuid": "f07f996a-bdd4-43b7-bff1-35040fd6cf8e",
        "id": "Oj8B3xtkyKXG",
        "colab": {
          "base_uri": "https://localhost:8080/"
        },
        "outputId": "47a8e91c-f5fd-44d5-eacf-3531b9f78867"
      },
      "source": [
        "#判断是否需要填补缺失值与处理类别变量\n",
        "train_data.info()"
      ],
      "execution_count": null,
      "outputs": [
        {
          "output_type": "stream",
          "text": [
            "<class 'pandas.core.frame.DataFrame'>\n",
            "RangeIndex: 506 entries, 0 to 505\n",
            "Data columns (total 14 columns):\n",
            " #   Column   Non-Null Count  Dtype  \n",
            "---  ------   --------------  -----  \n",
            " 0   CRIM     506 non-null    float64\n",
            " 1   ZN       506 non-null    float64\n",
            " 2   INDUS    506 non-null    float64\n",
            " 3   CHAS     506 non-null    int64  \n",
            " 4   NOX      506 non-null    float64\n",
            " 5   RM       506 non-null    float64\n",
            " 6   AGE      506 non-null    float64\n",
            " 7   DIS      506 non-null    float64\n",
            " 8   RAD      506 non-null    int64  \n",
            " 9   TAX      506 non-null    float64\n",
            " 10  PTRATIO  506 non-null    float64\n",
            " 11  B        506 non-null    float64\n",
            " 12  LSTAT    506 non-null    float64\n",
            " 13  MEDV     506 non-null    float64\n",
            "dtypes: float64(12), int64(2)\n",
            "memory usage: 55.5 KB\n"
          ],
          "name": "stdout"
        }
      ]
    },
    {
      "cell_type": "code",
      "metadata": {
        "uuid": "7fbd50a1-a825-4cdb-a90a-9b1df6f0e82e",
        "id": "BIcVZoE6yKXG",
        "colab": {
          "base_uri": "https://localhost:8080/"
        },
        "outputId": "fb981c5a-588c-48e9-b1de-1a3b771fe546"
      },
      "source": [
        "#结果显示：数据点完备，无需填补；数据皆为浮点型，无需处理类别变量。\n",
        "train_data.isnull().sum() "
      ],
      "execution_count": null,
      "outputs": [
        {
          "output_type": "execute_result",
          "data": {
            "text/plain": [
              "CRIM       0\n",
              "ZN         0\n",
              "INDUS      0\n",
              "CHAS       0\n",
              "NOX        0\n",
              "RM         0\n",
              "AGE        0\n",
              "DIS        0\n",
              "RAD        0\n",
              "TAX        0\n",
              "PTRATIO    0\n",
              "B          0\n",
              "LSTAT      0\n",
              "MEDV       0\n",
              "dtype: int64"
            ]
          },
          "metadata": {
            "tags": []
          },
          "execution_count": 14
        }
      ]
    },
    {
      "cell_type": "code",
      "metadata": {
        "uuid": "f78007f6-91eb-4100-8ecb-ee4269eb7f79",
        "id": "H2k5b3IsyKXG",
        "colab": {
          "base_uri": "https://localhost:8080/"
        },
        "outputId": "ea1e306e-b90e-4ead-a94f-7dfd3cf6ccf0"
      },
      "source": [
        "#计算每一个特征和price的相关系数\n",
        "train_data.corr()['MEDV']"
      ],
      "execution_count": null,
      "outputs": [
        {
          "output_type": "execute_result",
          "data": {
            "text/plain": [
              "CRIM      -0.388305\n",
              "ZN         0.360445\n",
              "INDUS     -0.483725\n",
              "CHAS       0.175260\n",
              "NOX       -0.427321\n",
              "RM         0.695360\n",
              "AGE       -0.376955\n",
              "DIS        0.249929\n",
              "RAD       -0.381626\n",
              "TAX       -0.468536\n",
              "PTRATIO   -0.507787\n",
              "B          0.333461\n",
              "LSTAT     -0.737663\n",
              "MEDV       1.000000\n",
              "Name: MEDV, dtype: float64"
            ]
          },
          "metadata": {
            "tags": []
          },
          "execution_count": 15
        }
      ]
    },
    {
      "cell_type": "code",
      "metadata": {
        "id": "Brcnm2HzyKXH",
        "colab": {
          "base_uri": "https://localhost:8080/"
        },
        "outputId": "f6a2029e-2652-4acb-b43c-499ba5585579"
      },
      "source": [
        "# 载入波士顿房屋的数据集\n",
        "MEDV = train_data['MEDV']\n",
        "features = train_data.drop('MEDV', axis = 1)\n",
        "# TODO: Minimum price of the data\n",
        "#目标：计算价值的最小值\n",
        "minimum_price = np.min(MEDV)\n",
        "# TODO: Maximum price of the data\n",
        "#目标：计算价值的最大值\n",
        "maximum_price = np.max(MEDV)\n",
        "# TODO: Mean price of the data\n",
        "#目标：计算价值的平均值\n",
        "mean_price = np.mean(MEDV)\n",
        "# TODO: Median price of the data\n",
        "#目标：计算价值的中值\n",
        "median_price = np.median(MEDV)\n",
        "# TODO: Standard deviation of prices of the data\n",
        "#目标：计算价值的标准差\n",
        "std_price = np.std(MEDV)\n",
        "# Show the calculated statistics\n",
        "#目标：输出计算的结果\n",
        "print(\"Statistics for Boston housing dataset:\\n\")\n",
        "print(\"Minimum price: ${:,.2f}\".format(minimum_price))\n",
        "print(\"Maximum price: ${:,.2f}\".format(maximum_price)) \n",
        "print(\"Mean price: ${:,.2f}\".format(mean_price)) \n",
        "print(\"Median price ${:,.2f}\".format(median_price))\n",
        "print(\"Standard deviation of prices: ${:,.2f}\".format(std_price))"
      ],
      "execution_count": null,
      "outputs": [
        {
          "output_type": "stream",
          "text": [
            "Statistics for Boston housing dataset:\n",
            "\n",
            "Minimum price: $5.00\n",
            "Maximum price: $50.00\n",
            "Mean price: $22.53\n",
            "Median price $21.20\n",
            "Standard deviation of prices: $9.19\n"
          ],
          "name": "stdout"
        }
      ]
    },
    {
      "cell_type": "markdown",
      "metadata": {
        "uuid": "026df8a9-fdbe-451e-90f7-fb43b65ce9c7",
        "id": "D8k9RjMPyKXH"
      },
      "source": [
        "## 找出挖掘数据的统计特征并处理异常值"
      ]
    },
    {
      "cell_type": "code",
      "metadata": {
        "uuid": "87b95f48-1ec6-430f-b7f2-2737cd5538cb",
        "id": "5M0mTrdiyKXI",
        "outputId": "3ed88c2d-93e7-4090-adb0-ad86e57fb432"
      },
      "source": [
        "train_data.describe() "
      ],
      "execution_count": null,
      "outputs": [
        {
          "output_type": "execute_result",
          "data": {
            "text/html": [
              "<div>\n",
              "<style scoped>\n",
              "    .dataframe tbody tr th:only-of-type {\n",
              "        vertical-align: middle;\n",
              "    }\n",
              "\n",
              "    .dataframe tbody tr th {\n",
              "        vertical-align: top;\n",
              "    }\n",
              "\n",
              "    .dataframe thead th {\n",
              "        text-align: right;\n",
              "    }\n",
              "</style>\n",
              "<table border=\"1\" class=\"dataframe\">\n",
              "  <thead>\n",
              "    <tr style=\"text-align: right;\">\n",
              "      <th></th>\n",
              "      <th>CRIM</th>\n",
              "      <th>ZN</th>\n",
              "      <th>INDUS</th>\n",
              "      <th>CHAS</th>\n",
              "      <th>NOX</th>\n",
              "      <th>RM</th>\n",
              "      <th>AGE</th>\n",
              "      <th>DIS</th>\n",
              "      <th>RAD</th>\n",
              "      <th>TAX</th>\n",
              "      <th>PTRATIO</th>\n",
              "      <th>B</th>\n",
              "      <th>LSTAT</th>\n",
              "      <th>MEDV</th>\n",
              "    </tr>\n",
              "  </thead>\n",
              "  <tbody>\n",
              "    <tr>\n",
              "      <th>count</th>\n",
              "      <td>506.000000</td>\n",
              "      <td>506.000000</td>\n",
              "      <td>506.000000</td>\n",
              "      <td>506.000000</td>\n",
              "      <td>506.000000</td>\n",
              "      <td>506.000000</td>\n",
              "      <td>506.000000</td>\n",
              "      <td>506.000000</td>\n",
              "      <td>506.000000</td>\n",
              "      <td>506.000000</td>\n",
              "      <td>506.000000</td>\n",
              "      <td>506.000000</td>\n",
              "      <td>506.000000</td>\n",
              "      <td>506.000000</td>\n",
              "    </tr>\n",
              "    <tr>\n",
              "      <th>mean</th>\n",
              "      <td>3.613524</td>\n",
              "      <td>11.363636</td>\n",
              "      <td>11.136779</td>\n",
              "      <td>0.069170</td>\n",
              "      <td>0.554695</td>\n",
              "      <td>6.284634</td>\n",
              "      <td>68.574901</td>\n",
              "      <td>3.795043</td>\n",
              "      <td>9.549407</td>\n",
              "      <td>408.237154</td>\n",
              "      <td>18.455534</td>\n",
              "      <td>356.674032</td>\n",
              "      <td>12.653063</td>\n",
              "      <td>22.532806</td>\n",
              "    </tr>\n",
              "    <tr>\n",
              "      <th>std</th>\n",
              "      <td>8.601545</td>\n",
              "      <td>23.322453</td>\n",
              "      <td>6.860353</td>\n",
              "      <td>0.253994</td>\n",
              "      <td>0.115878</td>\n",
              "      <td>0.702617</td>\n",
              "      <td>28.148861</td>\n",
              "      <td>2.105710</td>\n",
              "      <td>8.707259</td>\n",
              "      <td>168.537116</td>\n",
              "      <td>2.164946</td>\n",
              "      <td>91.294864</td>\n",
              "      <td>7.141062</td>\n",
              "      <td>9.197104</td>\n",
              "    </tr>\n",
              "    <tr>\n",
              "      <th>min</th>\n",
              "      <td>0.006320</td>\n",
              "      <td>0.000000</td>\n",
              "      <td>0.460000</td>\n",
              "      <td>0.000000</td>\n",
              "      <td>0.385000</td>\n",
              "      <td>3.561000</td>\n",
              "      <td>2.900000</td>\n",
              "      <td>1.129600</td>\n",
              "      <td>1.000000</td>\n",
              "      <td>187.000000</td>\n",
              "      <td>12.600000</td>\n",
              "      <td>0.320000</td>\n",
              "      <td>1.730000</td>\n",
              "      <td>5.000000</td>\n",
              "    </tr>\n",
              "    <tr>\n",
              "      <th>25%</th>\n",
              "      <td>0.082045</td>\n",
              "      <td>0.000000</td>\n",
              "      <td>5.190000</td>\n",
              "      <td>0.000000</td>\n",
              "      <td>0.449000</td>\n",
              "      <td>5.885500</td>\n",
              "      <td>45.025000</td>\n",
              "      <td>2.100175</td>\n",
              "      <td>4.000000</td>\n",
              "      <td>279.000000</td>\n",
              "      <td>17.400000</td>\n",
              "      <td>375.377500</td>\n",
              "      <td>6.950000</td>\n",
              "      <td>17.025000</td>\n",
              "    </tr>\n",
              "    <tr>\n",
              "      <th>50%</th>\n",
              "      <td>0.256510</td>\n",
              "      <td>0.000000</td>\n",
              "      <td>9.690000</td>\n",
              "      <td>0.000000</td>\n",
              "      <td>0.538000</td>\n",
              "      <td>6.208500</td>\n",
              "      <td>77.500000</td>\n",
              "      <td>3.207450</td>\n",
              "      <td>5.000000</td>\n",
              "      <td>330.000000</td>\n",
              "      <td>19.050000</td>\n",
              "      <td>391.440000</td>\n",
              "      <td>11.360000</td>\n",
              "      <td>21.200000</td>\n",
              "    </tr>\n",
              "    <tr>\n",
              "      <th>75%</th>\n",
              "      <td>3.677082</td>\n",
              "      <td>12.500000</td>\n",
              "      <td>18.100000</td>\n",
              "      <td>0.000000</td>\n",
              "      <td>0.624000</td>\n",
              "      <td>6.623500</td>\n",
              "      <td>94.075000</td>\n",
              "      <td>5.188425</td>\n",
              "      <td>24.000000</td>\n",
              "      <td>666.000000</td>\n",
              "      <td>20.200000</td>\n",
              "      <td>396.225000</td>\n",
              "      <td>16.955000</td>\n",
              "      <td>25.000000</td>\n",
              "    </tr>\n",
              "    <tr>\n",
              "      <th>max</th>\n",
              "      <td>88.976200</td>\n",
              "      <td>100.000000</td>\n",
              "      <td>27.740000</td>\n",
              "      <td>1.000000</td>\n",
              "      <td>0.871000</td>\n",
              "      <td>8.780000</td>\n",
              "      <td>100.000000</td>\n",
              "      <td>12.126500</td>\n",
              "      <td>24.000000</td>\n",
              "      <td>711.000000</td>\n",
              "      <td>22.000000</td>\n",
              "      <td>396.900000</td>\n",
              "      <td>37.970000</td>\n",
              "      <td>50.000000</td>\n",
              "    </tr>\n",
              "  </tbody>\n",
              "</table>\n",
              "</div>"
            ],
            "text/plain": [
              "             CRIM          ZN       INDUS        CHAS         NOX          RM  \\\n",
              "count  506.000000  506.000000  506.000000  506.000000  506.000000  506.000000   \n",
              "mean     3.613524   11.363636   11.136779    0.069170    0.554695    6.284634   \n",
              "std      8.601545   23.322453    6.860353    0.253994    0.115878    0.702617   \n",
              "min      0.006320    0.000000    0.460000    0.000000    0.385000    3.561000   \n",
              "25%      0.082045    0.000000    5.190000    0.000000    0.449000    5.885500   \n",
              "50%      0.256510    0.000000    9.690000    0.000000    0.538000    6.208500   \n",
              "75%      3.677082   12.500000   18.100000    0.000000    0.624000    6.623500   \n",
              "max     88.976200  100.000000   27.740000    1.000000    0.871000    8.780000   \n",
              "\n",
              "              AGE         DIS         RAD         TAX     PTRATIO           B  \\\n",
              "count  506.000000  506.000000  506.000000  506.000000  506.000000  506.000000   \n",
              "mean    68.574901    3.795043    9.549407  408.237154   18.455534  356.674032   \n",
              "std     28.148861    2.105710    8.707259  168.537116    2.164946   91.294864   \n",
              "min      2.900000    1.129600    1.000000  187.000000   12.600000    0.320000   \n",
              "25%     45.025000    2.100175    4.000000  279.000000   17.400000  375.377500   \n",
              "50%     77.500000    3.207450    5.000000  330.000000   19.050000  391.440000   \n",
              "75%     94.075000    5.188425   24.000000  666.000000   20.200000  396.225000   \n",
              "max    100.000000   12.126500   24.000000  711.000000   22.000000  396.900000   \n",
              "\n",
              "            LSTAT        MEDV  \n",
              "count  506.000000  506.000000  \n",
              "mean    12.653063   22.532806  \n",
              "std      7.141062    9.197104  \n",
              "min      1.730000    5.000000  \n",
              "25%      6.950000   17.025000  \n",
              "50%     11.360000   21.200000  \n",
              "75%     16.955000   25.000000  \n",
              "max     37.970000   50.000000  "
            ]
          },
          "metadata": {
            "tags": []
          },
          "execution_count": 15
        }
      ]
    },
    {
      "cell_type": "markdown",
      "metadata": {
        "uuid": "97cb063d-9295-419d-8d3d-53ad38cf9627",
        "id": "J7D_faZ3yKXI"
      },
      "source": [
        "以上数据显示：房价最大值是最小值的10倍。由于表格太大，其余特征与房价的关系及特征间交叉关系并不直观，故而进入一下可视化的探索。"
      ]
    },
    {
      "cell_type": "markdown",
      "metadata": {
        "uuid": "8a51f174-af49-4b48-abc0-87f4f3a878a2",
        "id": "T3Eu2SuhyKXI"
      },
      "source": [
        "## 我们将尝试了解因变量和自变量、自变量和自变量之间的关系。\n",
        "sns.pairplot(train_data) \n",
        "#最后一行和一列为price与其他特征的相关关系图。不难发现：其中NOX,RM,PTRATIO,LSTAT与price有较为明显的线性相关性。"
      ]
    },
    {
      "cell_type": "code",
      "metadata": {
        "uuid": "06853ba2-3cc3-49a8-9e63-526c2e76f89f",
        "id": "bpjBpBblyKXJ"
      },
      "source": [
        "#sns.set() \n",
        "#sns.distplot(train_data.CRIM,hist=True,bins=100,kde=False)\n",
        "#案例2：绘制直方图和核函数密度估计图\n",
        "#sns.distplot(train_data.CRIM)\n",
        "#plt.show()"
      ],
      "execution_count": null,
      "outputs": []
    },
    {
      "cell_type": "code",
      "metadata": {
        "uuid": "9a587aeb-0ab2-4bb1-a403-406b48af92fa",
        "id": "FRUx1H13yKXJ",
        "colab": {
          "base_uri": "https://localhost:8080/",
          "height": 901
        },
        "outputId": "f3287f9c-adfe-44ac-b9bf-c65ef32c8311"
      },
      "source": [
        "rows = 2\n",
        "cols = 7\n",
        "\n",
        "fig, ax = plt.subplots(nrows=rows,ncols=cols,figsize = (24,8))\n",
        "\n",
        "col = train_data.columns\n",
        "index = 0\n",
        "\n",
        "for i in range(rows):\n",
        "    for j in range(cols):\n",
        "        sns.distplot(train_data[col[index]],ax = ax[i][j])\n",
        "        index = index + 1\n",
        "plt.tight_layout()"
      ],
      "execution_count": null,
      "outputs": [
        {
          "output_type": "stream",
          "text": [
            "/usr/local/lib/python3.7/dist-packages/seaborn/distributions.py:2557: FutureWarning: `distplot` is a deprecated function and will be removed in a future version. Please adapt your code to use either `displot` (a figure-level function with similar flexibility) or `histplot` (an axes-level function for histograms).\n",
            "  warnings.warn(msg, FutureWarning)\n",
            "/usr/local/lib/python3.7/dist-packages/seaborn/distributions.py:2557: FutureWarning: `distplot` is a deprecated function and will be removed in a future version. Please adapt your code to use either `displot` (a figure-level function with similar flexibility) or `histplot` (an axes-level function for histograms).\n",
            "  warnings.warn(msg, FutureWarning)\n",
            "/usr/local/lib/python3.7/dist-packages/seaborn/distributions.py:2557: FutureWarning: `distplot` is a deprecated function and will be removed in a future version. Please adapt your code to use either `displot` (a figure-level function with similar flexibility) or `histplot` (an axes-level function for histograms).\n",
            "  warnings.warn(msg, FutureWarning)\n",
            "/usr/local/lib/python3.7/dist-packages/seaborn/distributions.py:2557: FutureWarning: `distplot` is a deprecated function and will be removed in a future version. Please adapt your code to use either `displot` (a figure-level function with similar flexibility) or `histplot` (an axes-level function for histograms).\n",
            "  warnings.warn(msg, FutureWarning)\n",
            "/usr/local/lib/python3.7/dist-packages/seaborn/distributions.py:2557: FutureWarning: `distplot` is a deprecated function and will be removed in a future version. Please adapt your code to use either `displot` (a figure-level function with similar flexibility) or `histplot` (an axes-level function for histograms).\n",
            "  warnings.warn(msg, FutureWarning)\n",
            "/usr/local/lib/python3.7/dist-packages/seaborn/distributions.py:2557: FutureWarning: `distplot` is a deprecated function and will be removed in a future version. Please adapt your code to use either `displot` (a figure-level function with similar flexibility) or `histplot` (an axes-level function for histograms).\n",
            "  warnings.warn(msg, FutureWarning)\n",
            "/usr/local/lib/python3.7/dist-packages/seaborn/distributions.py:2557: FutureWarning: `distplot` is a deprecated function and will be removed in a future version. Please adapt your code to use either `displot` (a figure-level function with similar flexibility) or `histplot` (an axes-level function for histograms).\n",
            "  warnings.warn(msg, FutureWarning)\n",
            "/usr/local/lib/python3.7/dist-packages/seaborn/distributions.py:2557: FutureWarning: `distplot` is a deprecated function and will be removed in a future version. Please adapt your code to use either `displot` (a figure-level function with similar flexibility) or `histplot` (an axes-level function for histograms).\n",
            "  warnings.warn(msg, FutureWarning)\n",
            "/usr/local/lib/python3.7/dist-packages/seaborn/distributions.py:2557: FutureWarning: `distplot` is a deprecated function and will be removed in a future version. Please adapt your code to use either `displot` (a figure-level function with similar flexibility) or `histplot` (an axes-level function for histograms).\n",
            "  warnings.warn(msg, FutureWarning)\n",
            "/usr/local/lib/python3.7/dist-packages/seaborn/distributions.py:2557: FutureWarning: `distplot` is a deprecated function and will be removed in a future version. Please adapt your code to use either `displot` (a figure-level function with similar flexibility) or `histplot` (an axes-level function for histograms).\n",
            "  warnings.warn(msg, FutureWarning)\n",
            "/usr/local/lib/python3.7/dist-packages/seaborn/distributions.py:2557: FutureWarning: `distplot` is a deprecated function and will be removed in a future version. Please adapt your code to use either `displot` (a figure-level function with similar flexibility) or `histplot` (an axes-level function for histograms).\n",
            "  warnings.warn(msg, FutureWarning)\n",
            "/usr/local/lib/python3.7/dist-packages/seaborn/distributions.py:2557: FutureWarning: `distplot` is a deprecated function and will be removed in a future version. Please adapt your code to use either `displot` (a figure-level function with similar flexibility) or `histplot` (an axes-level function for histograms).\n",
            "  warnings.warn(msg, FutureWarning)\n",
            "/usr/local/lib/python3.7/dist-packages/seaborn/distributions.py:2557: FutureWarning: `distplot` is a deprecated function and will be removed in a future version. Please adapt your code to use either `displot` (a figure-level function with similar flexibility) or `histplot` (an axes-level function for histograms).\n",
            "  warnings.warn(msg, FutureWarning)\n",
            "/usr/local/lib/python3.7/dist-packages/seaborn/distributions.py:2557: FutureWarning: `distplot` is a deprecated function and will be removed in a future version. Please adapt your code to use either `displot` (a figure-level function with similar flexibility) or `histplot` (an axes-level function for histograms).\n",
            "  warnings.warn(msg, FutureWarning)\n"
          ],
          "name": "stderr"
        },
        {
          "output_type": "display_data",
          "data": {
            "image/png": "[encoded data removed]",
            "text/plain": [
              "<Figure size 1728x576 with 14 Axes>"
            ]
          },
          "metadata": {
            "tags": [],
            "needs_background": "light"
          }
        }
      ]
    },
    {
      "cell_type": "code",
      "metadata": {
        "uuid": "ecbbcf65-6325-4fd9-8028-b6149bec3824",
        "id": "AAM7tQRXyKXJ",
        "colab": {
          "base_uri": "https://localhost:8080/",
          "height": 613
        },
        "outputId": "4f5d2093-4939-462f-a887-ddb0a7a203fc"
      },
      "source": [
        "#现在绘制所有特征间的相关系数热力图\n",
        "corrmat = train_data.corr()\n",
        "fig, ax = plt.subplots(figsize = (18, 10))\n",
        "sns.heatmap(corrmat, annot = True, annot_kws={'size': 12})"
      ],
      "execution_count": null,
      "outputs": [
        {
          "output_type": "execute_result",
          "data": {
            "text/plain": [
              "<matplotlib.axes._subplots.AxesSubplot at 0x7f9c6c939ed0>"
            ]
          },
          "metadata": {
            "tags": []
          },
          "execution_count": 23
        },
        {
          "output_type": "display_data",
          "data": {
            "image/png": "[encoded data removed]",
            "text/plain": [
              "<Figure size 1296x720 with 2 Axes>"
            ]
          },
          "metadata": {
            "tags": [],
            "needs_background": "light"
          }
        }
      ]
    },
    {
      "cell_type": "markdown",
      "metadata": {
        "uuid": "c7bed6a6-4f7e-4541-9a8f-969e71850008",
        "id": "azJei5UOyKXK"
      },
      "source": [
        "其中，LSTAT与price的相关程度最高(r=-0.74)，其次是RM,PTRAIO(|r|>=0.5), TAX,NOX(|r|>=0.4)。\n",
        "因此，房价可能与LSTAT(底层人口的百分比),RM(每个住宅的平均房间数),PTRATIO(各镇的师生比率),\n",
        "TAX(每$ 10,000的全值财产税率),NOX(一氧化氮的浓度)有一定但不算太强的相关性。"
      ]
    },
    {
      "cell_type": "markdown",
      "metadata": {
        "uuid": "9bbbfb1f-4541-4c14-8398-3b3a0726ccd2",
        "id": "T18JA-gjyKXK"
      },
      "source": [
        "## 模型搭建思路：\n",
        "考虑到不少特征与房价并无强相关性，若带入所有数据可能会对模型训练引入噪音，故而对所有模型，学生将对全数据集与经特征提取过的数据集分别套用相同模型，用rse、rae、r2_score作为evaluation metrics（以r2_score为主）。"
      ]
    },
    {
      "cell_type": "code",
      "metadata": {
        "uuid": "c2ebab18-4f00-466f-a3a6-dd0bf234461c",
        "id": "VI3VUU60yKXK",
        "colab": {
          "base_uri": "https://localhost:8080/"
        },
        "outputId": "bc691c0c-3f16-466c-d4d2-7f6e3b0d8a03"
      },
      "source": [
        "#from sklearn.model_section import train_test_split   会报错 ImportError: No module named model_selection\n",
        "from sklearn.model_selection import train_test_split\n",
        "from sklearn.linear_model import LinearRegression\n",
        "from sklearn.metrics import mean_absolute_error, mean_squared_error\n",
        "import sklearn\n",
        "print(sklearn.__version__)"
      ],
      "execution_count": null,
      "outputs": [
        {
          "output_type": "stream",
          "text": [
            "0.22.2.post1\n"
          ],
          "name": "stdout"
        }
      ]
    },
    {
      "cell_type": "code",
      "metadata": {
        "uuid": "3aa44cb2-9d50-4411-a79a-69c274c9c827",
        "id": "_wOp5rKhyKXL"
      },
      "source": [
        "def getCorrelatedFeature(corrdata, threshold):\n",
        "    feature = []\n",
        "    value = []\n",
        "    \n",
        "    for i,index in enumerate(corrdata.index) :\n",
        "        if abs(corrdata[index])> threshold:\n",
        "            feature.append(index)\n",
        "            value.append(corrdata[index])\n",
        "     \n",
        "    df = pd.DataFrame(data = value, index = feature, columns=['Corr Value'])\n",
        "    return df"
      ],
      "execution_count": null,
      "outputs": []
    },
    {
      "cell_type": "code",
      "metadata": {
        "uuid": "09ce303a-6251-4dcd-a92c-e719f1c97d66",
        "id": "338groY1yKXL",
        "colab": {
          "base_uri": "https://localhost:8080/",
          "height": 1030
        },
        "outputId": "5c4e7010-3c8c-451f-cc6b-06c03e57cecd"
      },
      "source": [
        "from sklearn.metrics import r2_score\n",
        "col=['threshold','r2_score','mse','mse']\n",
        "r2=[]\n",
        "mae=[]\n",
        "mse=[]\n",
        "thre=[]\n",
        "threshold=0.1\n",
        "while threshold <= 1:\n",
        "    corr_value = getCorrelatedFeature(corrmat['MEDV'],threshold)\n",
        "    correlated_data = train_data[corr_value.index]\n",
        "    X = correlated_data.drop(labels=['MEDV'],axis = 1) \n",
        "    y = correlated_data['MEDV']\n",
        "    # 分割训练集和测试集\n",
        "    X_train, X_test, y_train, y_test = train_test_split(X,y,test_size = 0.2, random_state = 0)\n",
        "    \n",
        "    ##加载线性回归模型\n",
        "    model=LinearRegression()\n",
        "    ##将训练数据传入开始训练\n",
        "    model.fit(X_train,y_train)\n",
        "\n",
        "    print(model.coef_)     #系数，偏执，有些模型没有系数（如k近邻）\n",
        "    print(model.intercept_) #与y轴交点，即截距\n",
        "    \n",
        "    y_predict = model.predict(X_test)\n",
        "    \n",
        "    df = pd.DataFrame(data = [y_predict, y_test])\n",
        "    \n",
        "    #r2_score：判定系数，其含义是也是解释回归模型的方差得分，其值取值范围是[0,1]，越接近于1说明自变量越能解释因变量的方差变化，值越小则说明效果越差。\n",
        "    r2.append(r2_score(y_test, y_predict))  \n",
        "    mae.append(mean_absolute_error(y_test, y_predict))  #平均绝对误差，用于评估预测结果和真实数据集的接近程度的程度，其其值越小说明拟合效果越好。\n",
        "    mse.append(mean_squared_error(y_test, y_predict))  #均方差,该指标计算的是拟合数据和原始数据对应样本点的误差的平方和的均值，其值越小说明拟合效果越好。\n",
        "    thre.append(threshold)\n",
        "    threshold+=0.1\n",
        "    print(threshold,\"\\n\")"
      ],
      "execution_count": null,
      "outputs": [
        {
          "output_type": "stream",
          "text": [
            "[-1.19443447e-01  4.47799511e-02  5.48526168e-03  2.34080361e+00\n",
            " -1.61236043e+01  3.70870901e+00 -3.12108178e-03 -1.38639737e+00\n",
            "  2.44178327e-01 -1.09896366e-02 -1.04592119e+00  8.11010693e-03\n",
            " -4.92792725e-01]\n",
            "38.091694926302296\n",
            "0.2 \n",
            "\n",
            "[-1.25156811e-01  4.48575121e-02  2.01265385e-02 -1.62895522e+01\n",
            "  3.77366409e+00 -2.13185120e-03 -1.40611846e+00  2.66835482e-01\n",
            " -1.21692284e-02 -1.07660161e+00  8.72533635e-03 -4.94425348e-01]\n",
            "38.42706211257525\n",
            "0.30000000000000004 \n",
            "\n",
            "[-9.82292616e-02  7.59436005e-03  1.13203463e-01 -8.57851466e+00\n",
            "  4.28058564e+00  2.47678293e-02  2.60823469e-01 -1.22197011e-02\n",
            " -1.19105581e+00  9.45553301e-03 -4.97973454e-01]\n",
            "25.073916678563204\n",
            "0.4 \n",
            "\n",
            "[ 6.98982840e-02 -3.55728522e+00  4.48966524e+00 -4.38418881e-03\n",
            " -1.07323064e+00 -5.20827038e-01]\n",
            "23.717115033942186\n",
            "0.5 \n",
            "\n",
            "[ 4.26494747 -1.13654724 -0.57552137]\n",
            "24.031093429371218\n",
            "0.6 \n",
            "\n",
            "[ 5.10906846 -0.65494879]\n",
            "-1.2625286844374557\n",
            "0.7 \n",
            "\n",
            "[-0.95648761]\n",
            "34.76519272372788\n",
            "0.7999999999999999 \n",
            "\n"
          ],
          "name": "stdout"
        },
        {
          "output_type": "error",
          "ename": "ValueError",
          "evalue": "ignored",
          "traceback": [
            "\u001b[0;31m---------------------------------------------------------------------------\u001b[0m",
            "\u001b[0;31mValueError\u001b[0m                                Traceback (most recent call last)",
            "\u001b[0;32m<ipython-input-26-f06ee66db4ba>\u001b[0m in \u001b[0;36m<module>\u001b[0;34m()\u001b[0m\n\u001b[1;32m     17\u001b[0m     \u001b[0mmodel\u001b[0m\u001b[0;34m=\u001b[0m\u001b[0mLinearRegression\u001b[0m\u001b[0;34m(\u001b[0m\u001b[0;34m)\u001b[0m\u001b[0;34m\u001b[0m\u001b[0;34m\u001b[0m\u001b[0m\n\u001b[1;32m     18\u001b[0m     \u001b[0;31m##将训练数据传入开始训练\u001b[0m\u001b[0;34m\u001b[0m\u001b[0;34m\u001b[0m\u001b[0;34m\u001b[0m\u001b[0m\n\u001b[0;32m---> 19\u001b[0;31m     \u001b[0mmodel\u001b[0m\u001b[0;34m.\u001b[0m\u001b[0mfit\u001b[0m\u001b[0;34m(\u001b[0m\u001b[0mX_train\u001b[0m\u001b[0;34m,\u001b[0m\u001b[0my_train\u001b[0m\u001b[0;34m)\u001b[0m\u001b[0;34m\u001b[0m\u001b[0;34m\u001b[0m\u001b[0m\n\u001b[0m\u001b[1;32m     20\u001b[0m \u001b[0;34m\u001b[0m\u001b[0m\n\u001b[1;32m     21\u001b[0m     \u001b[0mprint\u001b[0m\u001b[0;34m(\u001b[0m\u001b[0mmodel\u001b[0m\u001b[0;34m.\u001b[0m\u001b[0mcoef_\u001b[0m\u001b[0;34m)\u001b[0m     \u001b[0;31m#系数，偏执，有些模型没有系数（如k近邻）\u001b[0m\u001b[0;34m\u001b[0m\u001b[0;34m\u001b[0m\u001b[0m\n",
            "\u001b[0;32m/usr/local/lib/python3.7/dist-packages/sklearn/linear_model/_base.py\u001b[0m in \u001b[0;36mfit\u001b[0;34m(self, X, y, sample_weight)\u001b[0m\n\u001b[1;32m    490\u001b[0m         \u001b[0mn_jobs_\u001b[0m \u001b[0;34m=\u001b[0m \u001b[0mself\u001b[0m\u001b[0;34m.\u001b[0m\u001b[0mn_jobs\u001b[0m\u001b[0;34m\u001b[0m\u001b[0;34m\u001b[0m\u001b[0m\n\u001b[1;32m    491\u001b[0m         X, y = check_X_y(X, y, accept_sparse=['csr', 'csc', 'coo'],\n\u001b[0;32m--> 492\u001b[0;31m                          y_numeric=True, multi_output=True)\n\u001b[0m\u001b[1;32m    493\u001b[0m \u001b[0;34m\u001b[0m\u001b[0m\n\u001b[1;32m    494\u001b[0m         \u001b[0;32mif\u001b[0m \u001b[0msample_weight\u001b[0m \u001b[0;32mis\u001b[0m \u001b[0;32mnot\u001b[0m \u001b[0;32mNone\u001b[0m\u001b[0;34m:\u001b[0m\u001b[0;34m\u001b[0m\u001b[0;34m\u001b[0m\u001b[0m\n",
            "\u001b[0;32m/usr/local/lib/python3.7/dist-packages/sklearn/utils/validation.py\u001b[0m in \u001b[0;36mcheck_X_y\u001b[0;34m(X, y, accept_sparse, accept_large_sparse, dtype, order, copy, force_all_finite, ensure_2d, allow_nd, multi_output, ensure_min_samples, ensure_min_features, y_numeric, warn_on_dtype, estimator)\u001b[0m\n\u001b[1;32m    753\u001b[0m                     \u001b[0mensure_min_features\u001b[0m\u001b[0;34m=\u001b[0m\u001b[0mensure_min_features\u001b[0m\u001b[0;34m,\u001b[0m\u001b[0;34m\u001b[0m\u001b[0;34m\u001b[0m\u001b[0m\n\u001b[1;32m    754\u001b[0m                     \u001b[0mwarn_on_dtype\u001b[0m\u001b[0;34m=\u001b[0m\u001b[0mwarn_on_dtype\u001b[0m\u001b[0;34m,\u001b[0m\u001b[0;34m\u001b[0m\u001b[0;34m\u001b[0m\u001b[0m\n\u001b[0;32m--> 755\u001b[0;31m                     estimator=estimator)\n\u001b[0m\u001b[1;32m    756\u001b[0m     \u001b[0;32mif\u001b[0m \u001b[0mmulti_output\u001b[0m\u001b[0;34m:\u001b[0m\u001b[0;34m\u001b[0m\u001b[0;34m\u001b[0m\u001b[0m\n\u001b[1;32m    757\u001b[0m         y = check_array(y, 'csr', force_all_finite=True, ensure_2d=False,\n",
            "\u001b[0;32m/usr/local/lib/python3.7/dist-packages/sklearn/utils/validation.py\u001b[0m in \u001b[0;36mcheck_array\u001b[0;34m(array, accept_sparse, accept_large_sparse, dtype, order, copy, force_all_finite, ensure_2d, allow_nd, ensure_min_samples, ensure_min_features, warn_on_dtype, estimator)\u001b[0m\n\u001b[1;32m    473\u001b[0m \u001b[0;34m\u001b[0m\u001b[0m\n\u001b[1;32m    474\u001b[0m         \u001b[0;32mif\u001b[0m \u001b[0mall\u001b[0m\u001b[0;34m(\u001b[0m\u001b[0misinstance\u001b[0m\u001b[0;34m(\u001b[0m\u001b[0mdtype\u001b[0m\u001b[0;34m,\u001b[0m \u001b[0mnp\u001b[0m\u001b[0;34m.\u001b[0m\u001b[0mdtype\u001b[0m\u001b[0;34m)\u001b[0m \u001b[0;32mfor\u001b[0m \u001b[0mdtype\u001b[0m \u001b[0;32min\u001b[0m \u001b[0mdtypes_orig\u001b[0m\u001b[0;34m)\u001b[0m\u001b[0;34m:\u001b[0m\u001b[0;34m\u001b[0m\u001b[0;34m\u001b[0m\u001b[0m\n\u001b[0;32m--> 475\u001b[0;31m             \u001b[0mdtype_orig\u001b[0m \u001b[0;34m=\u001b[0m \u001b[0mnp\u001b[0m\u001b[0;34m.\u001b[0m\u001b[0mresult_type\u001b[0m\u001b[0;34m(\u001b[0m\u001b[0;34m*\u001b[0m\u001b[0mdtypes_orig\u001b[0m\u001b[0;34m)\u001b[0m\u001b[0;34m\u001b[0m\u001b[0;34m\u001b[0m\u001b[0m\n\u001b[0m\u001b[1;32m    476\u001b[0m \u001b[0;34m\u001b[0m\u001b[0m\n\u001b[1;32m    477\u001b[0m     \u001b[0;32mif\u001b[0m \u001b[0mdtype_numeric\u001b[0m\u001b[0;34m:\u001b[0m\u001b[0;34m\u001b[0m\u001b[0;34m\u001b[0m\u001b[0m\n",
            "\u001b[0;32m<__array_function__ internals>\u001b[0m in \u001b[0;36mresult_type\u001b[0;34m(*args, **kwargs)\u001b[0m\n",
            "\u001b[0;31mValueError\u001b[0m: at least one array or dtype is required"
          ]
        }
      ]
    },
    {
      "cell_type": "code",
      "metadata": {
        "id": "vkrrs9cPyKXM"
      },
      "source": [
        "def performance_metric(y_true,y_predict):\n",
        "    #calcuates and return performance_score between true and predit based on metric chosen  \n",
        "    score = r2_score(y_true,y_predict)\n",
        "    return score"
      ],
      "execution_count": null,
      "outputs": []
    },
    {
      "cell_type": "code",
      "metadata": {
        "id": "lX1J6y-QyKXM",
        "colab": {
          "base_uri": "https://localhost:8080/"
        },
        "outputId": "27f29088-4cce-4b6e-bd2e-98cfec2c5f8c"
      },
      "source": [
        "# Calculate the performance of this model\n",
        "score = performance_metric([3, -0.5, 2, 7, 4.2], [2.5, 0.0, 2.1, 7.8, 5.3])\n",
        "print(\"Model has a coefficient of determination, R^2, of {:.3f}.\".format(score))"
      ],
      "execution_count": null,
      "outputs": [
        {
          "output_type": "stream",
          "text": [
            "Model has a coefficient of determination, R^2, of 0.923.\n"
          ],
          "name": "stdout"
        }
      ]
    },
    {
      "cell_type": "markdown",
      "metadata": {
        "id": "5bjuO3JkyKXM"
      },
      "source": [
        "回答： R ^ 2 = 92.3％ 这意味着92.3％的变化由目标变量解释，并且似乎很高。 潜在的陷阱：这里我们只有五个要点，可能很难得出具有统计意义的结论。"
      ]
    },
    {
      "cell_type": "markdown",
      "metadata": {
        "uuid": "8337bfdb-fb56-4c1a-bdce-aebe75a6ebfe",
        "id": "fTVUlWqdyKXN"
      },
      "source": [
        "我们可以得到输出四个特征的关系:\n",
        "## y=−0.01759158x1+4.3701041x2−0.94665828x3−0.60046412x4+20.27487956y=−0.01759158x1+4.3701041x2−0.94665828x3−0.60046412x4+20.27487956\n",
        "官网上还有提到Ridge Regression，我们也来试一试，它其实就是在最小二乘法的基础上对系数的L2范数的平方加了一个λλ惩罚项。\n",
        "对于普通的线性回归，我们的算法思路是：minw||wX−y||22minw||wX−y||22此处为L2范数的平方此处为L2范数的平方\n",
        "## 对于Ridge Regression，它的思路是：minw||wX−y||22+λ||w||22"
      ]
    },
    {
      "cell_type": "code",
      "metadata": {
        "uuid": "6bb43fc2-a033-4f4a-9192-835fb96ced4c",
        "id": "JfXN1pnVyKXN",
        "colab": {
          "base_uri": "https://localhost:8080/",
          "height": 282
        },
        "outputId": "a82937c5-1ab5-4ca6-b455-377089f169c8"
      },
      "source": [
        "rows = 1\n",
        "cols = 3\n",
        "fig, (ax1,ax2,ax3) = plt.subplots(nrows=rows,ncols=cols,figsize=(14,4))\n",
        "ax1.plot(thre,r2)\n",
        "ax2.plot(thre,mae)\n",
        "ax3.plot(thre,mse)"
      ],
      "execution_count": null,
      "outputs": [
        {
          "output_type": "execute_result",
          "data": {
            "text/plain": [
              "[<matplotlib.lines.Line2D at 0x7f9c6c02c610>]"
            ]
          },
          "metadata": {
            "tags": []
          },
          "execution_count": 29
        },
        {
          "output_type": "display_data",
          "data": {
            "image/png": "[encoded data removed]",
            "text/plain": [
              "<Figure size 1008x288 with 3 Axes>"
            ]
          },
          "metadata": {
            "tags": [],
            "needs_background": "light"
          }
        }
      ]
    },
    {
      "cell_type": "markdown",
      "metadata": {
        "uuid": "82407f75-91e2-4c2c-a88f-23d1fb6cee00",
        "id": "Iq9dQO8oyKXN"
      },
      "source": [
        "## 如何进行特征提取？\n",
        "设定一个阈值threshold，与price相关系数绝对值大于该阈值的特征被保留。\n",
        "（阈值太高则保留的特征很少，模型容易欠拟合；太低则容易过拟合）对阈值从0.1到1进行搜索，选取使“正则化且完成了数据标准化的线性回归模型”的rse、rae、r2得分较低的阈值。\n",
        "## 由上图知：threshold取0.5时线性回归模型的rse、rae、r2综合得分较低。"
      ]
    },
    {
      "cell_type": "code",
      "metadata": {
        "uuid": "cf174c55-8efe-454a-929a-3032f71160e8",
        "id": "qQz6UwsSyKXO",
        "colab": {
          "base_uri": "https://localhost:8080/"
        },
        "outputId": "da5fedf6-f46c-4c18-d9b1-287f57600182"
      },
      "source": [
        "data_X=train_data[['ZN','RM','PTRATIO','LSTAT']]\n",
        "data_y=train_data[['MEDV']]\n",
        "X_train,X_test,y_train,y_test = train_test_split(data_X, data_y, test_size = 0.1, random_state = 0)\n",
        "#查看训练数据集与测试数据集的大小，检测数据集分割是否有问题\n",
        "print(X_train.shape)\n",
        "print(X_test.shape)\n",
        "print(y_train.shape)\n",
        "print(y_test.shape)"
      ],
      "execution_count": null,
      "outputs": [
        {
          "output_type": "stream",
          "text": [
            "(455, 4)\n",
            "(51, 4)\n",
            "(455, 1)\n",
            "(51, 1)\n"
          ],
          "name": "stdout"
        }
      ]
    },
    {
      "cell_type": "code",
      "metadata": {
        "uuid": "9268081b-755e-4bf1-ae99-b34ee62ff825",
        "id": "nuCLfBwXyKXO",
        "colab": {
          "base_uri": "https://localhost:8080/",
          "height": 312
        },
        "outputId": "69a537d2-e37e-4397-808b-2808cde6c1c2"
      },
      "source": [
        "model = LinearRegression(normalize=True)\n",
        "model.fit(X_train, y_train)\n",
        "\n",
        "y_predict = model.predict(X_test)\n",
        "print(\"r2:\",r2_score(y_test, y_predict))\n",
        "\n",
        "from sklearn.model_selection import learning_curve, ShuffleSplit\n",
        "\n",
        "def plot_learning_curve (estimator, title, X, y, ylim=None, cv=None, n_jobs=None, train_sizes=np.linspace(.1, 1.0, 10)):\n",
        "    plt.figure()\n",
        "    plt.title(title)\n",
        "    plt.xlabel (\"Training examples\")\n",
        "    plt.ylabel(\"Score\")\n",
        "    \n",
        "    train_sizes,train_scores, test_scores = learning_curve(\n",
        "        estimator, X,y,cv=cv, n_jobs=n_jobs,train_sizes=train_sizes, scoring='r2')\n",
        "    \n",
        "    train_scores_mean = np.mean(train_scores, axis=1)\n",
        "    train_scores_std = np.std(train_scores, axis=1)\n",
        "    test_scores_mean = np.mean (test_scores, axis=1)\n",
        "    test_scores_std = np.std(test_scores, axis=1)\n",
        "    \n",
        "    plt.grid()\n",
        "    \n",
        "    plt.fill_between(train_sizes, train_scores_mean - train_scores_std,\n",
        "                      train_scores_mean + train_scores_std, alpha=0.1,color=\"r\")\n",
        "    plt.fill_between(train_sizes, test_scores_mean - test_scores_std,\n",
        "                      test_scores_mean + test_scores_std, alpha=0.1, color=\"g\")\n",
        "    \n",
        "    plt.plot(train_sizes, train_scores_mean, 'o-', color=\"r\", label= \"Training score\")\n",
        "    plt.plot(train_sizes, test_scores_mean, 'o-', color=\"g\", label= \"Cross-validation score\")\n",
        "    \n",
        "    plt.legend(loc= \"best\")\n",
        "    return plt\n",
        "              \n",
        "title = \"Learning Curves(LinearRegression)\"\n",
        "\n",
        "cv = ShuffleSplit(n_splits=100, test_size=0.2, random_state=0)\n",
        "              \n",
        "estimator = LinearRegression(normalize=True)\n",
        "plot_learning_curve(estimator, title, X_train, y_train, ylim=(0.7,1.01), cv=cv, n_jobs=-1)\n",
        "\n",
        "\n",
        "plt.grid()\n",
        "plt.show()"
      ],
      "execution_count": null,
      "outputs": [
        {
          "output_type": "stream",
          "text": [
            "r2: 0.3899959810472349\n"
          ],
          "name": "stdout"
        },
        {
          "output_type": "display_data",
          "data": {
            "image/png": "[encoded data removed]",
            "text/plain": [
              "<Figure size 432x288 with 1 Axes>"
            ]
          },
          "metadata": {
            "tags": [],
            "needs_background": "light"
          }
        }
      ]
    },
    {
      "cell_type": "markdown",
      "metadata": {
        "uuid": "dae255f8-0ca0-4193-aad8-f6afc0002d3a",
        "id": "1Yme29GUyKXO"
      },
      "source": [
        "ValueError: Found array with 0 feature(s) (shape=(404, 0)) while a minimum of 1 is required.\n",
        "\n",
        "数据集分类出错"
      ]
    },
    {
      "cell_type": "markdown",
      "metadata": {
        "uuid": "06478962-9803-42d0-bf86-49a94861d1b7",
        "id": "uf33JHT3yKXP"
      },
      "source": [
        "# 模型搭建与训练\n",
        "# 逐步调参前的多模型效果比较"
      ]
    },
    {
      "cell_type": "code",
      "metadata": {
        "id": "JTXsvB6FyKXP"
      },
      "source": [
        "#print(X_test.shape)\n",
        "#print(X_test)\n",
        "#print(X_test.iloc[:,0:-3].values)\n",
        "#print(X_test.iloc[:,1:-2].values)\n",
        "#print(X_test.iloc[:,2:-1].values)\n",
        "#print(X_test.iloc[:,3:4].values)"
      ],
      "execution_count": null,
      "outputs": []
    },
    {
      "cell_type": "code",
      "metadata": {
        "id": "AyLCA_2jyKXP"
      },
      "source": [
        "#ValueError: x and y must be the same size"
      ],
      "execution_count": null,
      "outputs": []
    },
    {
      "cell_type": "code",
      "metadata": {
        "uuid": "0c72b65a-1030-4d05-8d07-0edf2adc3e77",
        "id": "OOPd5rUMyKXQ",
        "colab": {
          "base_uri": "https://localhost:8080/",
          "height": 974
        },
        "outputId": "2acf483c-a457-4338-cdf9-8386754a92d5"
      },
      "source": [
        "print('r2_score: %.2f' % r2_score(y_test, y_predict))\n",
        "# 绘制预测效果图\n",
        "\n",
        "#print(X_test.iloc[:,0:-3].values)\n",
        "#print(X_test.iloc[:,1:-2].values)\n",
        "#print(X_test.iloc[:,2:-1].values)\n",
        "#print(X_test.iloc[:,3:4].values)\n",
        "\n",
        "plt.scatter(X_test.iloc[:,2:-1].values, y_test, color='black')\n",
        "plt.plot(X_test.iloc[:,2:-1].values, y_predict, color='blue', linewidth=3)\n",
        "plt.xticks(())\n",
        "plt.yticks(())\n",
        "plt.show()\n",
        "\n",
        "plt.scatter(X_test.iloc[:,1:-2].values, y_test, color='black')\n",
        "plt.plot(X_test.iloc[:,2:-1].values, y_predict, color='blue', linewidth=3)\n",
        "plt.xticks(())\n",
        "plt.yticks(())\n",
        "plt.show()\n",
        "\n",
        "plt.scatter(X_test.iloc[:,0:-3].values, y_test, color='black')\n",
        "plt.plot(X_test.iloc[:,2:-1].values, y_predict, color='blue', linewidth=3)\n",
        "plt.xticks(())\n",
        "plt.yticks(())\n",
        "plt.show()\n",
        "\n",
        "plt.scatter(X_test.iloc[:,3:4].values, y_test, color='black')\n",
        "plt.plot(X_test.iloc[:,2:-1].values, y_predict, color='blue', linewidth=3)\n",
        "plt.xticks(())\n",
        "plt.yticks(())\n",
        "plt.show()"
      ],
      "execution_count": null,
      "outputs": [
        {
          "output_type": "stream",
          "text": [
            "r2_score: 0.39\n"
          ],
          "name": "stdout"
        },
        {
          "output_type": "display_data",
          "data": {
            "image/png": "[encoded data removed]",
            "text/plain": [
              "<Figure size 432x288 with 1 Axes>"
            ]
          },
          "metadata": {
            "tags": []
          }
        },
        {
          "output_type": "display_data",
          "data": {
            "image/png": "[encoded data removed]",
            "text/plain": [
              "<Figure size 432x288 with 1 Axes>"
            ]
          },
          "metadata": {
            "tags": []
          }
        },
        {
          "output_type": "display_data",
          "data": {
            "image/png": "[encoded data removed]",
            "text/plain": [
              "<Figure size 432x288 with 1 Axes>"
            ]
          },
          "metadata": {
            "tags": []
          }
        },
        {
          "output_type": "display_data",
          "data": {
            "image/png": "[encoded data removed]",
            "text/plain": [
              "<Figure size 432x288 with 1 Axes>"
            ]
          },
          "metadata": {
            "tags": []
          }
        }
      ]
    },
    {
      "cell_type": "code",
      "metadata": {
        "uuid": "703b7f8d-1e2b-44d4-8c19-c5e06feee3fc",
        "id": "DIW4mTe3yKXQ",
        "colab": {
          "base_uri": "https://localhost:8080/"
        },
        "outputId": "d9a09577-f785-43e5-84bf-6dca0692fb47"
      },
      "source": [
        "##导入线性回归模型\n",
        "from sklearn.linear_model import Ridge  #导入岭回归\n",
        "from sklearn.linear_model import Lasso\n",
        "from sklearn.linear_model import ElasticNet\n",
        "from sklearn.neighbors import KNeighborsRegressor\n",
        "from sklearn.tree import DecisionTreeRegressor\n",
        "from sklearn.svm import SVR\n",
        "from sklearn.ensemble import AdaBoostRegressor\n",
        "from sklearn.ensemble import GradientBoostingRegressor\n",
        "from sklearn.ensemble import RandomForestRegressor\n",
        "from sklearn.ensemble import ExtraTreesRegressor\n",
        "\n",
        "from sklearn.pipeline import make_pipeline\n",
        "from sklearn.externals import joblib  #模型的保存和加载 "
      ],
      "execution_count": null,
      "outputs": [
        {
          "output_type": "stream",
          "text": [
            "/usr/local/lib/python3.7/dist-packages/sklearn/externals/joblib/__init__.py:15: FutureWarning: sklearn.externals.joblib is deprecated in 0.21 and will be removed in 0.23. Please import this functionality directly from joblib, which can be installed with: pip install joblib. If this warning is raised when loading pickled models, you may need to re-serialize those models with scikit-learn 0.21+.\n",
            "  warnings.warn(msg, category=FutureWarning)\n"
          ],
          "name": "stderr"
        }
      ]
    },
    {
      "cell_type": "code",
      "metadata": {
        "uuid": "15a699d4-f42d-461f-902d-4d73df6f8a15",
        "id": "v1EK9ornyKXQ",
        "colab": {
          "base_uri": "https://localhost:8080/"
        },
        "outputId": "5862fa2e-d8f5-48e6-ea2a-05f26062f63c"
      },
      "source": [
        "#重新分割数据集\n",
        "data_X=train_data[['CRIM','ZN','INDUS','CHAS','NOX','RM','AGE','DIS','RAD','TAX','PTRATIO','B','LSTAT']]\n",
        "data_y=train_data[['MEDV']]\n",
        "X_train,X_test,y_train,y_test = train_test_split(data_X, data_y, test_size = 0.1, random_state = None)\n",
        "#查看训练数据集与测试数据集的大小，检测数据集分割是否有问题\n",
        "print(X_train.shape)\n",
        "print(X_test.shape)\n",
        "print(y_train.shape)\n",
        "print(y_test.shape)"
      ],
      "execution_count": null,
      "outputs": [
        {
          "output_type": "stream",
          "text": [
            "(455, 13)\n",
            "(51, 13)\n",
            "(455, 1)\n",
            "(51, 1)\n"
          ],
          "name": "stdout"
        }
      ]
    },
    {
      "cell_type": "code",
      "metadata": {
        "uuid": "da98bb4a-ed5c-47a6-9727-4b6271a27d71",
        "id": "93ol-QiZyKXR",
        "colab": {
          "base_uri": "https://localhost:8080/"
        },
        "outputId": "ae6baa92-90b8-444b-9d2e-3e2bfc4af624"
      },
      "source": [
        "#生成模型和训练模型\n",
        "LR=LinearRegression().fit(X_train,y_train) \n",
        "print(model.coef_)     #输出每个特征的权值，系数，有些模型没有系数（如k近邻）\n",
        "print(model.intercept_) #与y轴交点，即截距\n",
        "y_pred = LR.predict(X_test)                        #模型预测\n",
        "print(\"\\n\")\n",
        "\n",
        "#Ridge(alpha=0.01).fit(X_train,y_train)\n",
        "#print(model.coef_)     #系数，有些模型没有系数（如k近邻）\n",
        "#print(model.intercept_) #与y轴交点，即截距\n",
        "#print(\"\\n\")\n",
        "\n",
        "#Lasso().fit(X_train,y_train)\n",
        "#print(model.coef_)     #系数，有些模型没有系数（如k近邻）\n",
        "#print(model.intercept_) #与y轴交点，即截距\n",
        "#print(\"\\n\")\n",
        "\n",
        "#ElasticNet().fit(X_train,y_train)\n",
        "#print(model.coef_)     #系数，有些模型没有系数（如k近邻）\n",
        "#print(model.intercept_) #与y轴交点，即截距\n",
        "#print(\"\\n\")\n",
        "\n",
        "#KNeighborsRegressor().fit(X_train,y_train)\n",
        "#print(model.coef_)     #系数，有些模型没有系数（如k近邻）\n",
        "#print(model.intercept_) #与y轴交点，即截距\n",
        "#print(\"\\n\")\n",
        "\n",
        "#DecisionTreeRegressor().fit(X_train,y_train)\n",
        "#print(model.coef_)     #系数，有些模型没有系数（如k近邻）\n",
        "#print(model.intercept_) #与y轴交点，即截距\n",
        "#print(\"\\n\")\n",
        "\n",
        "#SVR().fit(X_train,y_train)\n",
        "#print(model.coef_)     #系数，有些模型没有系数（如k近邻）\n",
        "#print(model.intercept_) #与y轴交点，即截距\n",
        "#print(\"\\n\")\n",
        "\n",
        "#AdaBoostRegressor().fit(X_train,y_train)\n",
        "#print(model.coef_)     #系数，有些模型没有系数（如k近邻）\n",
        "#print(model.intercept_) #与y轴交点，即截距\n",
        "#print(\"\\n\")\n",
        "\n",
        "#GradientBoostingRegressor().fit(X_train,y_train)\n",
        "#print(model.coef_)     #系数，有些模型没有系数（如k近邻）\n",
        "#print(model.intercept_) #与y轴交点，即截距\n",
        "#print(\"\\n\")\n",
        "\n",
        "#RandomForestRegressor().fit(X_train,y_train)\n",
        "#print(model.coef_)     #系数，有些模型没有系数（如k近邻）\n",
        "#print(model.intercept_) #与y轴交点，即截距\n",
        "#print(\"\\n\")\n",
        "\n",
        "#ExtraTreesRegressor().fit(X_train,y_train)\n",
        "#print(model.coef_)     #系数，有些模型没有系数（如k近邻）\n",
        "#print(model.intercept_) #与y轴交点，即截距\n",
        "#print(\"\\n\")"
      ],
      "execution_count": null,
      "outputs": [
        {
          "output_type": "stream",
          "text": [
            "[[-0.00857818  4.74311082 -1.09633069 -0.54084703]]\n",
            "[19.93395701]\n",
            "\n",
            "\n"
          ],
          "name": "stdout"
        }
      ]
    },
    {
      "cell_type": "markdown",
      "metadata": {
        "uuid": "49a5daaf-215f-4e8f-8ae7-ff901bf1e8b6",
        "id": "vIt0YP72yKXR"
      },
      "source": [
        "## 绘制预测结果\n",
        "由于可视化能给我们带来最直观的认知，所以下面将通过可视化的方法，来展示回归模型预测的效果。通过以下代码，可以得到针对波士顿房价数据集，预测房价和实际房价之间的对比图。"
      ]
    },
    {
      "cell_type": "code",
      "metadata": {
        "uuid": "3e316fd6-2b42-4984-a274-57f1334e8a06",
        "id": "UcTlNSIQyKXR",
        "colab": {
          "base_uri": "https://localhost:8080/",
          "height": 305
        },
        "outputId": "909ec1f3-25c0-4e21-c220-9ec47e1f3087"
      },
      "source": [
        "import matplotlib.pyplot as plt\n",
        "import numpy as np\n",
        "\n",
        "plt.scatter(y_test, y_predict)\n",
        "plt.xlabel(\"Price: $Y_i$\")\n",
        "plt.ylabel(\"Predicted prices: $\\hat{Y}_i$\")\n",
        "plt.title(\"Prices vs Predicted prices: $Y_i$ vs $\\hat{Y}_i$\")\n",
        "plt.grid()\n",
        "\n",
        "x = np.arange(0, 50)\n",
        "y = x\n",
        "\n",
        "plt.grid()\n",
        "plt.plot(x, y, color = 'red', lw = 4)\n",
        "plt.text(30,40, \"predict line\")\n",
        "plt.savefig (\"price.eps\")"
      ],
      "execution_count": null,
      "outputs": [
        {
          "output_type": "display_data",
          "data": {
            "image/png": "[encoded data removed]",
            "text/plain": [
              "<Figure size 432x288 with 1 Axes>"
            ]
          },
          "metadata": {
            "tags": [],
            "needs_background": "light"
          }
        }
      ]
    },
    {
      "cell_type": "markdown",
      "metadata": {
        "uuid": "72fe1e27-2295-4482-96c3-734f646f0516",
        "id": "I_Qis3CqyKXS"
      },
      "source": [
        "在代码功能实现层面，我们知道，如果预测房价和实际房价一致的话，那么所有的数据点都应该汇集在 y=x 这条线上，但这并不是现实，于是可以看到，除了少数点，大部分点散落在 y=x 附近，大趋势说明预测的结果还不错"
      ]
    },
    {
      "cell_type": "markdown",
      "metadata": {
        "uuid": "5da5b4d4-571c-40da-b066-4d3b9a32af07",
        "id": "ElidFk_YyKXS"
      },
      "source": [
        "除了可以利用常规的 Matplotlib 绘制图形，还可以利用前面学习的 Seaborn 绘制更加“炫丽”的线性回归模型趋势图，这时就要用到 lmplot( ) 方法了。该方法用以绘制回归趋势图，描述线性关系，拟合数据集回归模型。hue、col、row 参数可用来控制绘图变量"
      ]
    },
    {
      "cell_type": "code",
      "metadata": {
        "id": "GxwJCNFjyKXS",
        "colab": {
          "base_uri": "https://localhost:8080/"
        },
        "outputId": "2c87e675-92cf-4931-d39f-3fbbe039e1d2"
      },
      "source": [
        "print(\"w0 = \", LR.intercept_)    #输出截距\n",
        "print (\"W = \",  LR. coef_)     #输出每个特征的权值"
      ],
      "execution_count": null,
      "outputs": [
        {
          "output_type": "stream",
          "text": [
            "w0 =  [38.10606041]\n",
            "W =  [[-1.22077718e-01  4.41268275e-02  3.41761855e-03  2.78687531e+00\n",
            "  -1.65612168e+01  3.62959650e+00 -3.62713611e-03 -1.47823865e+00\n",
            "   3.10442717e-01 -1.35034935e-02 -9.74000918e-01  8.68368658e-03\n",
            "  -5.02132846e-01]]\n"
          ],
          "name": "stdout"
        }
      ]
    },
    {
      "cell_type": "code",
      "metadata": {
        "id": "5Bqnm3cfyKXS"
      },
      "source": [
        "#import seaborn as sns\n",
        "#sns.set_style(\"whitegrid\")\n",
        "#tips = sns.load_dataset(\"tips\") #载入自带数据\n",
        "#print(tips)\n",
        "#研究小费tips与总消费金额total_bill在吸烟与不吸烟人之间的关系\n",
        "#g = sns.lmplot(x=\"total_bill\", y=\"tip\", hue=\"smoker\", data=tips,palette=\"Set1\")"
      ],
      "execution_count": null,
      "outputs": []
    },
    {
      "cell_type": "code",
      "metadata": {
        "id": "Hick_aPZyKXT",
        "colab": {
          "base_uri": "https://localhost:8080/"
        },
        "outputId": "3362223f-1d40-424a-eedc-8434f8037fca"
      },
      "source": [
        "print(y_test.shape)\n",
        "print(y_pred.shape)\n",
        "#g = sns.lmplot(x=\"MEDV\", y=\"tip\", hue=\"smoker\", data=y_test,palette=\"Set1\")"
      ],
      "execution_count": null,
      "outputs": [
        {
          "output_type": "stream",
          "text": [
            "(51, 1)\n",
            "(51, 1)\n"
          ],
          "name": "stdout"
        }
      ]
    },
    {
      "cell_type": "code",
      "metadata": {
        "id": "WZGBHPlKyKXT",
        "colab": {
          "base_uri": "https://localhost:8080/"
        },
        "outputId": "f4d4ec1f-7fb0-4fb1-99b1-7ae31a5ac58a"
      },
      "source": [
        "from sklearn import metrics\n",
        "mse = metrics.mean_squared_error(y_test, y_pred)\n",
        "print(mse)"
      ],
      "execution_count": null,
      "outputs": [
        {
          "output_type": "stream",
          "text": [
            "38.16545584760873\n"
          ],
          "name": "stdout"
        }
      ]
    },
    {
      "cell_type": "code",
      "metadata": {
        "uuid": "ae4efb8d-9fb8-495a-912f-96f6c3572bf6",
        "id": "t17BMaZ_yKXT"
      },
      "source": [
        "df = pd.DataFrame()\n",
        "#df[{'实际房价': y_test, '预测房价': y_pred},index=[0]]\n",
        "\n",
        "lists = np.array(y_test)\n",
        "lists = list(lists)\n",
        "labels = y_pred\n",
        "\n",
        "df = pd.DataFrame()\n",
        "df[\"list\"] = lists\n",
        "df[\"label\"] = labels\n",
        " \n",
        "#print(df)"
      ],
      "execution_count": null,
      "outputs": []
    },
    {
      "cell_type": "code",
      "metadata": {
        "id": "0_PtUuTwyKXU"
      },
      "source": [
        "#sns.set_style(\"whitegrid\")\n",
        "#真实房价与预测值的关系\n",
        "#g = sns.lmplot(x=\"list\", y=\"label\", data=df, palette=\"Set1\")"
      ],
      "execution_count": null,
      "outputs": []
    },
    {
      "cell_type": "code",
      "metadata": {
        "uuid": "577247bd-422e-4aa8-b0c0-625138e7bec2",
        "id": "RC7ZHWFByKXU",
        "colab": {
          "base_uri": "https://localhost:8080/"
        },
        "outputId": "9c6fd4c0-5c10-4f81-9183-d20f8f311942"
      },
      "source": [
        "#Choosing the best model:GradientBoostingRegressor\n",
        "import random\n",
        "best_model = sklearn.ensemble.GradientBoostingRegressor(random_state=random.seed())\n",
        "best_model.fit(X_train, y_train)\n",
        "\n",
        "# make predictions using the modeI\n",
        "predictions = best_model.predict(X_test)\n",
        "print(\"[INFO] MSE : {}\".format(round(mean_squared_error(y_test, predictions), 3)))"
      ],
      "execution_count": null,
      "outputs": [
        {
          "output_type": "stream",
          "text": [
            "[INFO] MSE : 10.733\n"
          ],
          "name": "stdout"
        },
        {
          "output_type": "stream",
          "text": [
            "/usr/local/lib/python3.7/dist-packages/sklearn/ensemble/_gb.py:1454: DataConversionWarning: A column-vector y was passed when a 1d array was expected. Please change the shape of y to (n_samples, ), for example using ravel().\n",
            "  y = column_or_1d(y, warn=True)\n"
          ],
          "name": "stderr"
        }
      ]
    },
    {
      "cell_type": "code",
      "metadata": {
        "uuid": "17740424-66c4-43b1-9bea-2cf09889c303",
        "id": "QqG9S66QyKXW"
      },
      "source": [
        "# plot between predictions and Y test\n",
        "x_axis = np.array(range(0, predictions.shape[0]))\n",
        "plt.plot(x_axis, predictions, linestyle=\"--\", marker= \"o\", alpha=0.7, color='r',label=\"predictions\")\n",
        "plt.plot(x_axis, y_test, linestyle=\"--\", marker=\"o\", alpha=0.7, color='g',label=\"Y_test\")\n",
        "plt.xlabel('Row number')\n",
        "plt.ylabel('PRICE')\n",
        "plt.title('Predictions vs Y_test')\n",
        "plt.legend(loc='lower right')\n",
        "plt.savefig(\"predictions_Vs_ytest.png\")\n",
        "plt.clf()\n",
        "plt.close()"
      ],
      "execution_count": null,
      "outputs": []
    },
    {
      "cell_type": "markdown",
      "metadata": {
        "id": "0IqZPzrIyKXX"
      },
      "source": [
        "![predictions_Vs_ytest](/content/Boston_house_price/Demo/predictions_Vs_ytest.png)"
      ]
    },
    {
      "cell_type": "markdown",
      "metadata": {
        "id": "BZdazhW305V0"
      },
      "source": [
        "![predictions_Vs_ytest](https://colab.research.google.com/9d5c24d8-e05c-458e-b6c3-077702e20a29)"
      ]
    },
    {
      "cell_type": "code",
      "metadata": {
        "uuid": "69de9132-0dd9-44e2-8d87-0099c10da58b",
        "id": "1BNfpDQ3yKXX",
        "colab": {
          "base_uri": "https://localhost:8080/",
          "height": 598
        },
        "outputId": "f04bb4c1-5088-4b68-82db-b53b3c219d0c"
      },
      "source": [
        "# plot model's feature importance\n",
        "feature_importance = best_model.feature_importances_\n",
        "feature_importance = 100.0 * (feature_importance / feature_importance.max())\n",
        "\n",
        "sorted_idx = np.argsort(feature_importance)\n",
        "pos = np.arange(sorted_idx.shape[0]) + .5\n",
        "corr_value = getCorrelatedFeature(corrmat['MEDV'],threshold)\n",
        "correlated_data = train_data[corr_value.index]\n",
        "                               \n",
        "plt.barh(pos,feature_importance[sorted_idx],align='center')\n",
        "plt.yticks(pos,correlated_data.columns[sorted_idx])\n",
        "plt.xlabel('Relative Importance')\n",
        "plt.title('Variable Importance')\n",
        "plt.savefig(\"feature_importance.png\")\n",
        "plt.clf()\n",
        "plt.close()"
      ],
      "execution_count": null,
      "outputs": [
        {
          "output_type": "error",
          "ename": "IndexError",
          "evalue": "ignored",
          "traceback": [
            "\u001b[0;31m---------------------------------------------------------------------------\u001b[0m",
            "\u001b[0;31mIndexError\u001b[0m                                Traceback (most recent call last)",
            "\u001b[0;32m<ipython-input-47-6dbc187e81f5>\u001b[0m in \u001b[0;36m<module>\u001b[0;34m()\u001b[0m\n\u001b[1;32m      9\u001b[0m \u001b[0;34m\u001b[0m\u001b[0m\n\u001b[1;32m     10\u001b[0m \u001b[0mplt\u001b[0m\u001b[0;34m.\u001b[0m\u001b[0mbarh\u001b[0m\u001b[0;34m(\u001b[0m\u001b[0mpos\u001b[0m\u001b[0;34m,\u001b[0m\u001b[0mfeature_importance\u001b[0m\u001b[0;34m[\u001b[0m\u001b[0msorted_idx\u001b[0m\u001b[0;34m]\u001b[0m\u001b[0;34m,\u001b[0m\u001b[0malign\u001b[0m\u001b[0;34m=\u001b[0m\u001b[0;34m'center'\u001b[0m\u001b[0;34m)\u001b[0m\u001b[0;34m\u001b[0m\u001b[0;34m\u001b[0m\u001b[0m\n\u001b[0;32m---> 11\u001b[0;31m \u001b[0mplt\u001b[0m\u001b[0;34m.\u001b[0m\u001b[0myticks\u001b[0m\u001b[0;34m(\u001b[0m\u001b[0mpos\u001b[0m\u001b[0;34m,\u001b[0m\u001b[0mcorrelated_data\u001b[0m\u001b[0;34m.\u001b[0m\u001b[0mcolumns\u001b[0m\u001b[0;34m[\u001b[0m\u001b[0msorted_idx\u001b[0m\u001b[0;34m]\u001b[0m\u001b[0;34m)\u001b[0m\u001b[0;34m\u001b[0m\u001b[0;34m\u001b[0m\u001b[0m\n\u001b[0m\u001b[1;32m     12\u001b[0m \u001b[0mplt\u001b[0m\u001b[0;34m.\u001b[0m\u001b[0mxlabel\u001b[0m\u001b[0;34m(\u001b[0m\u001b[0;34m'Relative Importance'\u001b[0m\u001b[0;34m)\u001b[0m\u001b[0;34m\u001b[0m\u001b[0;34m\u001b[0m\u001b[0m\n\u001b[1;32m     13\u001b[0m \u001b[0mplt\u001b[0m\u001b[0;34m.\u001b[0m\u001b[0mtitle\u001b[0m\u001b[0;34m(\u001b[0m\u001b[0;34m'Variable Importance'\u001b[0m\u001b[0;34m)\u001b[0m\u001b[0;34m\u001b[0m\u001b[0;34m\u001b[0m\u001b[0m\n",
            "\u001b[0;32m/usr/local/lib/python3.7/dist-packages/pandas/core/indexes/base.py\u001b[0m in \u001b[0;36m__getitem__\u001b[0;34m(self, key)\u001b[0m\n\u001b[1;32m   4112\u001b[0m             \u001b[0mkey\u001b[0m \u001b[0;34m=\u001b[0m \u001b[0mnp\u001b[0m\u001b[0;34m.\u001b[0m\u001b[0masarray\u001b[0m\u001b[0;34m(\u001b[0m\u001b[0mkey\u001b[0m\u001b[0;34m,\u001b[0m \u001b[0mdtype\u001b[0m\u001b[0;34m=\u001b[0m\u001b[0mbool\u001b[0m\u001b[0;34m)\u001b[0m\u001b[0;34m\u001b[0m\u001b[0;34m\u001b[0m\u001b[0m\n\u001b[1;32m   4113\u001b[0m \u001b[0;34m\u001b[0m\u001b[0m\n\u001b[0;32m-> 4114\u001b[0;31m         \u001b[0mresult\u001b[0m \u001b[0;34m=\u001b[0m \u001b[0mgetitem\u001b[0m\u001b[0;34m(\u001b[0m\u001b[0mkey\u001b[0m\u001b[0;34m)\u001b[0m\u001b[0;34m\u001b[0m\u001b[0;34m\u001b[0m\u001b[0m\n\u001b[0m\u001b[1;32m   4115\u001b[0m         \u001b[0;32mif\u001b[0m \u001b[0;32mnot\u001b[0m \u001b[0mis_scalar\u001b[0m\u001b[0;34m(\u001b[0m\u001b[0mresult\u001b[0m\u001b[0;34m)\u001b[0m\u001b[0;34m:\u001b[0m\u001b[0;34m\u001b[0m\u001b[0;34m\u001b[0m\u001b[0m\n\u001b[1;32m   4116\u001b[0m             \u001b[0;32mif\u001b[0m \u001b[0mnp\u001b[0m\u001b[0;34m.\u001b[0m\u001b[0mndim\u001b[0m\u001b[0;34m(\u001b[0m\u001b[0mresult\u001b[0m\u001b[0;34m)\u001b[0m \u001b[0;34m>\u001b[0m \u001b[0;36m1\u001b[0m\u001b[0;34m:\u001b[0m\u001b[0;34m\u001b[0m\u001b[0;34m\u001b[0m\u001b[0m\n",
            "\u001b[0;31mIndexError\u001b[0m: index 1 is out of bounds for axis 0 with size 1"
          ]
        },
        {
          "output_type": "display_data",
          "data": {
            "image/png": "[encoded data removed]",
            "text/plain": [
              "<Figure size 432x288 with 1 Axes>"
            ]
          },
          "metadata": {
            "tags": [],
            "needs_background": "light"
          }
        }
      ]
    },
    {
      "cell_type": "markdown",
      "metadata": {
        "uuid": "85948368-3dbc-4701-a534-702fb38fc0dc",
        "id": "IiRIGt8QyKXX"
      },
      "source": [
        "# step:\n",
        "\n",
        "1.gridsearchcv遍历每个模型的主要参数，求出每个模型的最佳参数。\n",
        "\n",
        "2.分别求出feature=3(只考虑'RM', 'PTRATIO', 'LSTAT' 3个features)与feature=13(考虑所有features)时各模型在最佳参数下的r2_Score效果，得出feature=3与13时各自的最佳模型。\n",
        "\n",
        "3.比较feature=3与13时各自最佳模型的r2_Score平均值与方差，得出全局最优模型。"
      ]
    },
    {
      "cell_type": "code",
      "metadata": {
        "uuid": "7daf6563-66ab-4f9d-9de9-379506dcd09a",
        "id": "eH8bVGN-yKXX"
      },
      "source": [
        "import pandas as pd \n",
        "import numpy as np\n",
        "from sklearn.model_selection import GridSearchCV\n",
        "\n",
        "class EstimatorSelectionHelper:\n",
        "    \n",
        "    def __init__(self, models, params):\n",
        "        if not set (models.keys()).issubset(set(params.keys())):\n",
        "            missing_params = list(set(models.keys()) - set(params.keys()))\n",
        "            raise ValueError(\"Some estimators are missing parameters: %s\" % missing_params) \n",
        "        self.models = models\n",
        "        self.params = params \n",
        "        self.keys = models.keys() \n",
        "        self.grid_searches = {}\n",
        "\n",
        "\n",
        "    def fit(self, X, y, cv=3, n_jobs=3, verbose=1, scoring=None, refit=False):\n",
        "        for key in self.keys:\n",
        "            print(\"Running GridSearchCV for %s.\" % key)\n",
        "            model = self.models[key] \n",
        "            params = self.params[key]\n",
        "            gs = GridSearchCV(model, params, cv=cv, n_jobs=n_jobs,\n",
        "                              verbose=verbose, scoring=scoring, \n",
        "                              refit=refit, return_train_score=True)\n",
        "\n",
        "            gs.fit(X, y)\n",
        "            self.grid_searches[key] = gs\n",
        "      \n",
        "\n",
        "    def score_summary(self, sort_by='mean_score'):\n",
        "        def row (key, scores, params):\n",
        "          d ={\n",
        "              'estimator' : key,\n",
        "              'min_score' : min (scores),\n",
        "              'max_score' : max(scores),\n",
        "              'mean_score' : np.mean(scores),\n",
        "              'std_score' : np.std(scores),\n",
        "          }     \n",
        "          return pd.Series({**params, **d})\n",
        "        \n",
        "          rows =[]\n",
        "          for k in self.grid_searches: \n",
        "            print(k)\n",
        "            params = self.grid_searches[k].cv_results_['params']\n",
        "            scores =[]\n",
        "            for i in range(self.grid_searches[k].cv):\n",
        "              key = \"split{}_test_score\".format(i) \n",
        "              r = self.grid_searches[k].cv_results_[key]\n",
        "              scores.append(r.reshape(len(params), 1))\n",
        "            \n",
        "          all_scores = np.hstack(scores)\n",
        "          for p,s in zip(params, all_scores):\n",
        "             rows.append((row(k, s, p)))\n",
        "                                                         \n",
        "          df = pd.concat(rows, axis=1).T.sort_values([sort_by], ascending=False)\n",
        "                                                         \n",
        "          columns = ['estimator', 'min_scor','mean_score', 'max_score', 'std_score'] \n",
        "          columns = columns + [c for c in df.columns if c not in columns]\n",
        "            \n",
        "          return df[columns]"
      ],
      "execution_count": null,
      "outputs": []
    },
    {
      "cell_type": "markdown",
      "metadata": {
        "id": "1H16NfdryKXY"
      },
      "source": [
        "# 评价模型表现\n",
        "在这个练习中，你将需要将所学到的内容整合，使用决策树算法训练一个模型。为了得出的是一个最优模型，你需要使用网格搜索法训练模型，以找到最佳的 'max_depth' 参数。你可以把'max_depth' 参数理解为决策树算法在做出预测前，允许其对数据提出问题的数量。决策树是监督学习算法中的一种。"
      ]
    },
    {
      "cell_type": "markdown",
      "metadata": {
        "id": "3X3kDhAxyKXY"
      },
      "source": [
        "## GridSearchCV 网格搜索和交叉验证\n",
        "GridSearchCV的名字其实可以拆分为两部分，GridSearch和CV，即网格搜索和交叉验证。这两个名字都非常好理解。网格搜索，搜索的是参数，即在指定的参数范围内，按步长依次调整参数，利用调整的参数训练学习器，从所有的参数中找到在验证集上精度最高的参数，这其实是一个训练和比较的过程。\n",
        "GridSearchCV可以保证在指定的参数范围内找到精度最高的参数，但是这也是网格搜索的缺陷所在，他要求遍历所有可能参数的组合，在面对大数据集和多参数的情况下，非常耗时。"
      ]
    },
    {
      "cell_type": "code",
      "metadata": {
        "uuid": "c1cb5dfa-8639-4f50-8b66-ad4f3b52c589",
        "id": "bMEKoQRAyKXY",
        "colab": {
          "base_uri": "https://localhost:8080/"
        },
        "outputId": "44cf6f8b-3981-41d7-c500-ad1064a8407f"
      },
      "source": [
        "from sklearn.ensemble import ExtraTreesClassifier\n",
        "from sklearn.ensemble import RandomForestClassifier\n",
        "from sklearn.ensemble import AdaBoostClassifier\n",
        "from sklearn.ensemble import GradientBoostingClassifier\n",
        "from sklearn.svm import SVC\n",
        "models1 = {\n",
        "    'SVR': SVR(),\n",
        "    'KNeighborsRegressor': KNeighborsRegressor(),\n",
        "    'DecisionTreeRegressor': DecisionTreeRegressor(),\n",
        "    'RandomForestRegressor': RandomForestRegressor(),\n",
        "    \"GradientBoostingRegressor\":GradientBoostingRegressor(),\n",
        "    \"AdaBoostRegressor\":AdaBoostRegressor(),\n",
        "    \"ElasticNet\":ElasticNet(),\n",
        "    \"ExtraTreesRegressor\":ExtraTreesRegressor()\n",
        "}\n",
        "\n",
        "params1 = {\n",
        "    'SVR': {'kernel':('linear', 'rbf'), 'C':[1, 2, 4], 'gamma':[0.125, 0.25, 0.5 ,1, 2, 4]},\n",
        "    'KNeighborsRegressor': {'weights': ['uniform', 'distance'],\n",
        "                             'n_neighbors': range(2,100)\n",
        "                             },\n",
        "    'DecisionTreeRegressor':  {'max_features': ['sqrt', 'log2', None],\n",
        "                             'max_depth': range(2,1000),\n",
        "                             },\n",
        "    'RandomForestRegressor': {\n",
        "    'min_samples_split': list((3,6,9)),'n_estimators':list((10,50,100))},\n",
        "    \"GradientBoostingRegressor\":{'n_estimators':[100], 'learning_rate': [0.1], 'max_depth':[6],'min_samples_leaf':[3], 'max_features':[3]},\n",
        "    \"AdaBoostRegressor\":{'n_estimators': [50, 100], 'learning_rate' : [0.01,0.05,0.1,0.3,1],'loss' : ['linear', 'square', 'exponential']},\n",
        "    \"ElasticNet\": {\"max_iter\": [1, 5, 10],\n",
        "                      \"alpha\": [0.0001, 0.001, 0.01, 0.1, 1, 10, 100],\n",
        "                      \"l1_ratio\": np.arange(0.0, 1.0, 0.1)},\n",
        "    \"ExtraTreesRegressor\":{\n",
        "        'max_features': range(1,4,1),\n",
        "    }\n",
        "    \n",
        "}\n",
        "\n",
        "helper1 = EstimatorSelectionHelper(models1, params1)\n",
        "helper1.fit(X_train, y_train, scoring='r2', n_jobs=2)\n",
        "helper1.score_summary(sort_by='max_score')\n",
        "print(\"\\r\\n\")"
      ],
      "execution_count": null,
      "outputs": [
        {
          "output_type": "stream",
          "text": [
            "Running GridSearchCV for SVR.\n",
            "Fitting 3 folds for each of 36 candidates, totalling 108 fits\n"
          ],
          "name": "stdout"
        },
        {
          "output_type": "stream",
          "text": [
            "[Parallel(n_jobs=2)]: Using backend LokyBackend with 2 concurrent workers.\n",
            "[Parallel(n_jobs=2)]: Done  46 tasks      | elapsed:   59.5s\n",
            "[Parallel(n_jobs=2)]: Done 108 out of 108 | elapsed:  3.0min finished\n",
            "[Parallel(n_jobs=2)]: Using backend LokyBackend with 2 concurrent workers.\n"
          ],
          "name": "stderr"
        },
        {
          "output_type": "stream",
          "text": [
            "Running GridSearchCV for KNeighborsRegressor.\n",
            "Fitting 3 folds for each of 196 candidates, totalling 588 fits\n"
          ],
          "name": "stdout"
        },
        {
          "output_type": "stream",
          "text": [
            "[Parallel(n_jobs=2)]: Done 540 tasks      | elapsed:    4.6s\n",
            "[Parallel(n_jobs=2)]: Done 588 out of 588 | elapsed:    5.1s finished\n",
            "[Parallel(n_jobs=2)]: Using backend LokyBackend with 2 concurrent workers.\n"
          ],
          "name": "stderr"
        },
        {
          "output_type": "stream",
          "text": [
            "Running GridSearchCV for DecisionTreeRegressor.\n",
            "Fitting 3 folds for each of 2994 candidates, totalling 8982 fits\n"
          ],
          "name": "stdout"
        },
        {
          "output_type": "stream",
          "text": [
            "[Parallel(n_jobs=2)]: Done 956 tasks      | elapsed:    4.4s\n",
            "[Parallel(n_jobs=2)]: Done 5756 tasks      | elapsed:   25.5s\n",
            "[Parallel(n_jobs=2)]: Done 8982 out of 8982 | elapsed:   39.7s finished\n",
            "[Parallel(n_jobs=2)]: Using backend LokyBackend with 2 concurrent workers.\n"
          ],
          "name": "stderr"
        },
        {
          "output_type": "stream",
          "text": [
            "Running GridSearchCV for RandomForestRegressor.\n",
            "Fitting 3 folds for each of 9 candidates, totalling 27 fits\n"
          ],
          "name": "stdout"
        },
        {
          "output_type": "stream",
          "text": [
            "[Parallel(n_jobs=2)]: Done  27 out of  27 | elapsed:    2.9s finished\n",
            "[Parallel(n_jobs=2)]: Using backend LokyBackend with 2 concurrent workers.\n",
            "[Parallel(n_jobs=2)]: Done   3 out of   3 | elapsed:    0.2s finished\n",
            "[Parallel(n_jobs=2)]: Using backend LokyBackend with 2 concurrent workers.\n"
          ],
          "name": "stderr"
        },
        {
          "output_type": "stream",
          "text": [
            "Running GridSearchCV for GradientBoostingRegressor.\n",
            "Fitting 3 folds for each of 1 candidates, totalling 3 fits\n",
            "Running GridSearchCV for AdaBoostRegressor.\n",
            "Fitting 3 folds for each of 30 candidates, totalling 90 fits\n"
          ],
          "name": "stdout"
        },
        {
          "output_type": "stream",
          "text": [
            "[Parallel(n_jobs=2)]: Done  87 out of  90 | elapsed:   10.6s remaining:    0.4s\n",
            "[Parallel(n_jobs=2)]: Done  90 out of  90 | elapsed:   10.8s finished\n",
            "[Parallel(n_jobs=2)]: Using backend LokyBackend with 2 concurrent workers.\n"
          ],
          "name": "stderr"
        },
        {
          "output_type": "stream",
          "text": [
            "Running GridSearchCV for ElasticNet.\n",
            "Fitting 3 folds for each of 210 candidates, totalling 630 fits\n"
          ],
          "name": "stdout"
        },
        {
          "output_type": "stream",
          "text": [
            "[Parallel(n_jobs=2)]: Done 540 tasks      | elapsed:    2.6s\n",
            "[Parallel(n_jobs=2)]: Done 630 out of 630 | elapsed:    3.0s finished\n",
            "[Parallel(n_jobs=2)]: Using backend LokyBackend with 2 concurrent workers.\n"
          ],
          "name": "stderr"
        },
        {
          "output_type": "stream",
          "text": [
            "Running GridSearchCV for ExtraTreesRegressor.\n",
            "Fitting 3 folds for each of 3 candidates, totalling 9 fits\n",
            "\n",
            "\n"
          ],
          "name": "stdout"
        },
        {
          "output_type": "stream",
          "text": [
            "[Parallel(n_jobs=2)]: Done   9 out of   9 | elapsed:    1.0s finished\n"
          ],
          "name": "stderr"
        }
      ]
    },
    {
      "cell_type": "code",
      "metadata": {
        "uuid": "32e51077-abb3-40d9-8709-4e5d4fa46564",
        "id": "NpxLkOXryKXZ",
        "colab": {
          "base_uri": "https://localhost:8080/"
        },
        "outputId": "1c70c23c-ee08-420c-eb97-e8f8c4014cad"
      },
      "source": [
        "from sklearn.ensemble import ExtraTreesClassifier\n",
        "from sklearn.ensemble import RandomForestClassifier\n",
        "from sklearn.ensemble import AdaBoostClassifier\n",
        "from sklearn.ensemble import GradientBoostingClassifier\n",
        "from sklearn.svm import SVC\n",
        "Xall = train_data.drop(labels=['MEDV'],axis = 1)\n",
        "yall = train_data[['MEDV']]\n",
        "X_train_1,X_test_1,y_train_1,y_test_1 = train_test_split(Xall, yall, test_size = 0.1, random_state = 0)\n",
        "models1 = {\n",
        "    'SVR': SVR(),\n",
        "    'KNeighborsRegressor': KNeighborsRegressor(),\n",
        "    'DecisionTreeRegressor': DecisionTreeRegressor(),\n",
        "    'RandomForestRegressor': RandomForestRegressor(),\n",
        "    \"GradientBoostingRegressor\":GradientBoostingRegressor(),\n",
        "    \"AdaBoostRegressor\":AdaBoostRegressor(),\n",
        "    \"ElasticNet\":ElasticNet(),\n",
        "    \"ExtraTreesRegressor\":ExtraTreesRegressor()\n",
        "}\n",
        "\n",
        "params1 = {\n",
        "    'SVR': {'kernel':('linear', 'rbf'), 'C':[1, 2, 4], 'gamma':[0.125, 0.25, 0.5 ,1, 2, 4]},\n",
        "    'KNeighborsRegressor': {'weights': ['uniform', 'distance'],\n",
        "                             'n_neighbors': range(2,100)\n",
        "                             },\n",
        "    'DecisionTreeRegressor':  {'max_features': ['sqrt', 'log2', None],\n",
        "                             'max_depth': range(2,1000),\n",
        "                             },\n",
        "    'RandomForestRegressor': {\n",
        "    'min_samples_split': list((3,6,9)),'n_estimators':list((10,50,100))},\n",
        "    \"GradientBoostingRegressor\":{'n_estimators':[100], 'learning_rate': [0.1], 'max_depth':[6],'min_samples_leaf':[3], 'max_features':[3]},\n",
        "    \"AdaBoostRegressor\":{'n_estimators': [50, 100], 'learning_rate' : [0.01,0.05,0.1,0.3,1],'loss' : ['linear', 'square', 'exponential']},\n",
        "    \"ElasticNet\": {\"max_iter\": [1, 5, 10],\n",
        "                      \"alpha\": [0.0001, 0.001, 0.01, 0.1, 1, 10, 100],\n",
        "                      \"l1_ratio\": np.arange(0.0, 1.0, 0.1)},\n",
        "    \"ExtraTreesRegressor\":{\n",
        "        'max_features': range(1,4,1),\n",
        "    }\n",
        "    \n",
        "}\n",
        "\n",
        "helper2 = EstimatorSelectionHelper(models1, params1)\n",
        "helper2.fit(X_train_1, y_train_1, scoring='r2', n_jobs=2)\n",
        "helper2.score_summary(sort_by='max_score')\n",
        "print(\"\\r\\n\")"
      ],
      "execution_count": null,
      "outputs": [
        {
          "output_type": "stream",
          "text": [
            "[Parallel(n_jobs=2)]: Using backend LokyBackend with 2 concurrent workers.\n"
          ],
          "name": "stderr"
        },
        {
          "output_type": "stream",
          "text": [
            "Running GridSearchCV for SVR.\n",
            "Fitting 3 folds for each of 36 candidates, totalling 108 fits\n"
          ],
          "name": "stdout"
        },
        {
          "output_type": "stream",
          "text": [
            "[Parallel(n_jobs=2)]: Done  46 tasks      | elapsed:   48.0s\n",
            "[Parallel(n_jobs=2)]: Done 108 out of 108 | elapsed:  2.8min finished\n",
            "[Parallel(n_jobs=2)]: Using backend LokyBackend with 2 concurrent workers.\n"
          ],
          "name": "stderr"
        },
        {
          "output_type": "stream",
          "text": [
            "Running GridSearchCV for KNeighborsRegressor.\n",
            "Fitting 3 folds for each of 196 candidates, totalling 588 fits\n"
          ],
          "name": "stdout"
        },
        {
          "output_type": "stream",
          "text": [
            "[Parallel(n_jobs=2)]: Done 300 tasks      | elapsed:    2.9s\n",
            "[Parallel(n_jobs=2)]: Done 588 out of 588 | elapsed:    6.2s finished\n",
            "[Parallel(n_jobs=2)]: Using backend LokyBackend with 2 concurrent workers.\n"
          ],
          "name": "stderr"
        },
        {
          "output_type": "stream",
          "text": [
            "Running GridSearchCV for DecisionTreeRegressor.\n",
            "Fitting 3 folds for each of 2994 candidates, totalling 8982 fits\n"
          ],
          "name": "stdout"
        },
        {
          "output_type": "stream",
          "text": [
            "[Parallel(n_jobs=2)]: Done 540 tasks      | elapsed:    3.2s\n",
            "[Parallel(n_jobs=2)]: Done 2940 tasks      | elapsed:   17.2s\n",
            "[Parallel(n_jobs=2)]: Done 6940 tasks      | elapsed:   41.0s\n",
            "[Parallel(n_jobs=2)]: Done 8982 out of 8982 | elapsed:   53.2s finished\n",
            "[Parallel(n_jobs=2)]: Using backend LokyBackend with 2 concurrent workers.\n"
          ],
          "name": "stderr"
        },
        {
          "output_type": "stream",
          "text": [
            "Running GridSearchCV for RandomForestRegressor.\n",
            "Fitting 3 folds for each of 9 candidates, totalling 27 fits\n"
          ],
          "name": "stdout"
        },
        {
          "output_type": "stream",
          "text": [
            "[Parallel(n_jobs=2)]: Done  27 out of  27 | elapsed:    3.2s finished\n",
            "[Parallel(n_jobs=2)]: Using backend LokyBackend with 2 concurrent workers.\n",
            "[Parallel(n_jobs=2)]: Done   3 out of   3 | elapsed:    0.2s finished\n",
            "[Parallel(n_jobs=2)]: Using backend LokyBackend with 2 concurrent workers.\n"
          ],
          "name": "stderr"
        },
        {
          "output_type": "stream",
          "text": [
            "Running GridSearchCV for GradientBoostingRegressor.\n",
            "Fitting 3 folds for each of 1 candidates, totalling 3 fits\n",
            "Running GridSearchCV for AdaBoostRegressor.\n",
            "Fitting 3 folds for each of 30 candidates, totalling 90 fits\n"
          ],
          "name": "stdout"
        },
        {
          "output_type": "stream",
          "text": [
            "[Parallel(n_jobs=2)]: Done  87 out of  90 | elapsed:   11.2s remaining:    0.4s\n",
            "[Parallel(n_jobs=2)]: Done  90 out of  90 | elapsed:   11.5s finished\n",
            "[Parallel(n_jobs=2)]: Using backend LokyBackend with 2 concurrent workers.\n"
          ],
          "name": "stderr"
        },
        {
          "output_type": "stream",
          "text": [
            "Running GridSearchCV for ElasticNet.\n",
            "Fitting 3 folds for each of 210 candidates, totalling 630 fits\n"
          ],
          "name": "stdout"
        },
        {
          "output_type": "stream",
          "text": [
            "[Parallel(n_jobs=2)]: Done 540 tasks      | elapsed:    3.3s\n",
            "[Parallel(n_jobs=2)]: Done 630 out of 630 | elapsed:    3.9s finished\n",
            "[Parallel(n_jobs=2)]: Using backend LokyBackend with 2 concurrent workers.\n"
          ],
          "name": "stderr"
        },
        {
          "output_type": "stream",
          "text": [
            "Running GridSearchCV for ExtraTreesRegressor.\n",
            "Fitting 3 folds for each of 3 candidates, totalling 9 fits\n",
            "\n",
            "\n"
          ],
          "name": "stdout"
        },
        {
          "output_type": "stream",
          "text": [
            "[Parallel(n_jobs=2)]: Done   9 out of   9 | elapsed:    1.1s finished\n"
          ],
          "name": "stderr"
        }
      ]
    },
    {
      "cell_type": "markdown",
      "metadata": {
        "id": "e7zH0vL4yKXZ"
      },
      "source": [
        "# 训练模型\n",
        "当我们用数据训练出一个模型，它现在就可用于对新的数据进行预测。在决策树回归函数中，模型已经学会对新输入的数据提问，并返回对目标变量的预测值。你可以用这个预测来获取数据未知目标变量的信息，这些数据必须是不包含在训练数据之内的。"
      ]
    },
    {
      "cell_type": "code",
      "metadata": {
        "uuid": "655b56a0-f91f-41a9-91de-08d48373f0af",
        "id": "1WWO41M2yKXa"
      },
      "source": [
        "from visuals import *\n",
        "import visuals as vs\n",
        "#import sys\n",
        "#sys.path.append('download/Boston_house_price/visuals.py')\n",
        "#python import模块时， 是在sys.path里按顺序查找的。sys.path是一个列表，里面以字符串的形式存储了许多路径。使用A.py文件中的函数需要先将他的文件路径放到sys.path中\n",
        "#from imp import reload\n",
        "#reload(PredictTrials)"
      ],
      "execution_count": null,
      "outputs": []
    },
    {
      "cell_type": "code",
      "metadata": {
        "uuid": "547332b3-a6d8-430a-8d63-780c36c2a5d8",
        "id": "FI2MFrQcyKXa",
        "colab": {
          "base_uri": "https://localhost:8080/",
          "height": 475
        },
        "outputId": "fbd6b517-2154-40a4-8b03-5397887ac5cf"
      },
      "source": [
        "def performance_metric(y_true,y_predict):\n",
        "    #calcuates and return performance_score between true and predit based on metric chosen  \n",
        "    score = r2_score(y_true,y_predict)\n",
        "    return score\n",
        "\n",
        "def fit_model(X ,y):\n",
        "    #Performs grid search over the ' max_depth, parameter for a decision tree regressor trained on the input data [X, y].\n",
        "    \n",
        "    from sklearn.model_selection import ShuffleSplit\n",
        "    from sklearn.metrics import make_scorer\n",
        "    from sklearn.model_selection import GridSearchCV\n",
        "    #Create cross-validation sets from the training data\n",
        "    \n",
        "    cv_sets=ShuffleSplit(X.shape[0], test_size = 0.20, random_state = 0)\n",
        "\n",
        "    #Create a decision tree regressor object\n",
        "    regressor = GradientBoostingRegressor()\n",
        "    \n",
        "    #Create a dictionary for the parameter 'max_depth' with a range from 1 to 10\n",
        "    params = {'n_estimators':[100], 'learning_rate':[0.1], 'max.depth':[6], 'min_samples_leaf':[3], 'max_features':[3]}\n",
        "\n",
        "    #Transform 'performancejnetric' into a scoring function using 'make_scorer'\n",
        "    scoring_fnc = make_scorer(performance_metric)\n",
        "\n",
        "    \n",
        "    #Create the grid search object\n",
        "    grid = GridSearchCV(estimator=regressor, param_grid=params, scoring=scoring_fnc, cv=cv_sets)\n",
        "    \n",
        "    #Fit the grid search object to the data to compute the optimal model\n",
        "    grid = grid.fit(X, y)\n",
        "              \n",
        "    #Return the optimal model after fitting the data\n",
        "    return grid.best_estimator_\n",
        "\n",
        "vs.PredictTrials(Xall, yall, fit_model, Xall[:1].values)"
      ],
      "execution_count": null,
      "outputs": [
        {
          "output_type": "error",
          "ename": "ValueError",
          "evalue": "ignored",
          "traceback": [
            "\u001b[0;31m---------------------------------------------------------------------------\u001b[0m",
            "\u001b[0;31mValueError\u001b[0m                                Traceback (most recent call last)",
            "\u001b[0;32m<ipython-input-79-3c975e0bc604>\u001b[0m in \u001b[0;36m<module>\u001b[0;34m()\u001b[0m\n\u001b[1;32m     33\u001b[0m     \u001b[0;32mreturn\u001b[0m \u001b[0mgrid\u001b[0m\u001b[0;34m.\u001b[0m\u001b[0mbest_estimator_\u001b[0m\u001b[0;34m\u001b[0m\u001b[0;34m\u001b[0m\u001b[0m\n\u001b[1;32m     34\u001b[0m \u001b[0;34m\u001b[0m\u001b[0m\n\u001b[0;32m---> 35\u001b[0;31m \u001b[0mvs\u001b[0m\u001b[0;34m.\u001b[0m\u001b[0mPredictTrials\u001b[0m\u001b[0;34m(\u001b[0m\u001b[0mXall\u001b[0m\u001b[0;34m,\u001b[0m \u001b[0myall\u001b[0m\u001b[0;34m,\u001b[0m \u001b[0mfit_model\u001b[0m\u001b[0;34m,\u001b[0m \u001b[0mXall\u001b[0m\u001b[0;34m[\u001b[0m\u001b[0;34m:\u001b[0m\u001b[0;36m1\u001b[0m\u001b[0;34m]\u001b[0m\u001b[0;34m.\u001b[0m\u001b[0mvalues\u001b[0m\u001b[0;34m)\u001b[0m\u001b[0;34m\u001b[0m\u001b[0;34m\u001b[0m\u001b[0m\n\u001b[0m",
            "\u001b[0;32m/content/Boston_house_price/Demo/visuals.py\u001b[0m in \u001b[0;36mPredictTrials\u001b[0;34m(X, y, fitter, data)\u001b[0m\n\u001b[1;32m    131\u001b[0m \u001b[0;34m\u001b[0m\u001b[0m\n\u001b[1;32m    132\u001b[0m         \u001b[0;31m# Fit the data\u001b[0m\u001b[0;34m\u001b[0m\u001b[0;34m\u001b[0m\u001b[0;34m\u001b[0m\u001b[0m\n\u001b[0;32m--> 133\u001b[0;31m         \u001b[0mreg\u001b[0m \u001b[0;34m=\u001b[0m \u001b[0mfitter\u001b[0m\u001b[0;34m(\u001b[0m\u001b[0mX_train\u001b[0m\u001b[0;34m,\u001b[0m \u001b[0my_train\u001b[0m\u001b[0;34m)\u001b[0m\u001b[0;34m\u001b[0m\u001b[0;34m\u001b[0m\u001b[0m\n\u001b[0m\u001b[1;32m    134\u001b[0m \u001b[0;34m\u001b[0m\u001b[0m\n\u001b[1;32m    135\u001b[0m         \u001b[0;31m# Make a prediction\u001b[0m\u001b[0;34m\u001b[0m\u001b[0;34m\u001b[0m\u001b[0;34m\u001b[0m\u001b[0m\n",
            "\u001b[0;32m<ipython-input-79-3c975e0bc604>\u001b[0m in \u001b[0;36mfit_model\u001b[0;34m(X, y)\u001b[0m\n\u001b[1;32m     28\u001b[0m \u001b[0;34m\u001b[0m\u001b[0m\n\u001b[1;32m     29\u001b[0m     \u001b[0;31m#Fit the grid search object to the data to compute the optimal model\u001b[0m\u001b[0;34m\u001b[0m\u001b[0;34m\u001b[0m\u001b[0;34m\u001b[0m\u001b[0m\n\u001b[0;32m---> 30\u001b[0;31m     \u001b[0mgrid\u001b[0m \u001b[0;34m=\u001b[0m \u001b[0mgrid\u001b[0m\u001b[0;34m.\u001b[0m\u001b[0mfit\u001b[0m\u001b[0;34m(\u001b[0m\u001b[0mX\u001b[0m\u001b[0;34m,\u001b[0m \u001b[0my\u001b[0m\u001b[0;34m)\u001b[0m\u001b[0;34m\u001b[0m\u001b[0;34m\u001b[0m\u001b[0m\n\u001b[0m\u001b[1;32m     31\u001b[0m \u001b[0;34m\u001b[0m\u001b[0m\n\u001b[1;32m     32\u001b[0m     \u001b[0;31m#Return the optimal model after fitting the data\u001b[0m\u001b[0;34m\u001b[0m\u001b[0;34m\u001b[0m\u001b[0;34m\u001b[0m\u001b[0m\n",
            "\u001b[0;32m/usr/local/lib/python3.7/dist-packages/sklearn/model_selection/_search.py\u001b[0m in \u001b[0;36mfit\u001b[0;34m(self, X, y, groups, **fit_params)\u001b[0m\n\u001b[1;32m    708\u001b[0m                 \u001b[0;32mreturn\u001b[0m \u001b[0mresults\u001b[0m\u001b[0;34m\u001b[0m\u001b[0;34m\u001b[0m\u001b[0m\n\u001b[1;32m    709\u001b[0m \u001b[0;34m\u001b[0m\u001b[0m\n\u001b[0;32m--> 710\u001b[0;31m             \u001b[0mself\u001b[0m\u001b[0;34m.\u001b[0m\u001b[0m_run_search\u001b[0m\u001b[0;34m(\u001b[0m\u001b[0mevaluate_candidates\u001b[0m\u001b[0;34m)\u001b[0m\u001b[0;34m\u001b[0m\u001b[0;34m\u001b[0m\u001b[0m\n\u001b[0m\u001b[1;32m    711\u001b[0m \u001b[0;34m\u001b[0m\u001b[0m\n\u001b[1;32m    712\u001b[0m         \u001b[0;31m# For multi-metric evaluation, store the best_index_, best_params_ and\u001b[0m\u001b[0;34m\u001b[0m\u001b[0;34m\u001b[0m\u001b[0;34m\u001b[0m\u001b[0m\n",
            "\u001b[0;32m/usr/local/lib/python3.7/dist-packages/sklearn/model_selection/_search.py\u001b[0m in \u001b[0;36m_run_search\u001b[0;34m(self, evaluate_candidates)\u001b[0m\n\u001b[1;32m   1149\u001b[0m     \u001b[0;32mdef\u001b[0m \u001b[0m_run_search\u001b[0m\u001b[0;34m(\u001b[0m\u001b[0mself\u001b[0m\u001b[0;34m,\u001b[0m \u001b[0mevaluate_candidates\u001b[0m\u001b[0;34m)\u001b[0m\u001b[0;34m:\u001b[0m\u001b[0;34m\u001b[0m\u001b[0;34m\u001b[0m\u001b[0m\n\u001b[1;32m   1150\u001b[0m         \u001b[0;34m\"\"\"Search all candidates in param_grid\"\"\"\u001b[0m\u001b[0;34m\u001b[0m\u001b[0;34m\u001b[0m\u001b[0m\n\u001b[0;32m-> 1151\u001b[0;31m         \u001b[0mevaluate_candidates\u001b[0m\u001b[0;34m(\u001b[0m\u001b[0mParameterGrid\u001b[0m\u001b[0;34m(\u001b[0m\u001b[0mself\u001b[0m\u001b[0;34m.\u001b[0m\u001b[0mparam_grid\u001b[0m\u001b[0;34m)\u001b[0m\u001b[0;34m)\u001b[0m\u001b[0;34m\u001b[0m\u001b[0;34m\u001b[0m\u001b[0m\n\u001b[0m\u001b[1;32m   1152\u001b[0m \u001b[0;34m\u001b[0m\u001b[0m\n\u001b[1;32m   1153\u001b[0m \u001b[0;34m\u001b[0m\u001b[0m\n",
            "\u001b[0;32m/usr/local/lib/python3.7/dist-packages/sklearn/model_selection/_search.py\u001b[0m in \u001b[0;36mevaluate_candidates\u001b[0;34m(candidate_params)\u001b[0m\n\u001b[1;32m    687\u001b[0m                                \u001b[0;32mfor\u001b[0m \u001b[0mparameters\u001b[0m\u001b[0;34m,\u001b[0m \u001b[0;34m(\u001b[0m\u001b[0mtrain\u001b[0m\u001b[0;34m,\u001b[0m \u001b[0mtest\u001b[0m\u001b[0;34m)\u001b[0m\u001b[0;34m\u001b[0m\u001b[0;34m\u001b[0m\u001b[0m\n\u001b[1;32m    688\u001b[0m                                in product(candidate_params,\n\u001b[0;32m--> 689\u001b[0;31m                                           cv.split(X, y, groups)))\n\u001b[0m\u001b[1;32m    690\u001b[0m \u001b[0;34m\u001b[0m\u001b[0m\n\u001b[1;32m    691\u001b[0m                 \u001b[0;32mif\u001b[0m \u001b[0mlen\u001b[0m\u001b[0;34m(\u001b[0m\u001b[0mout\u001b[0m\u001b[0;34m)\u001b[0m \u001b[0;34m<\u001b[0m \u001b[0;36m1\u001b[0m\u001b[0;34m:\u001b[0m\u001b[0;34m\u001b[0m\u001b[0;34m\u001b[0m\u001b[0m\n",
            "\u001b[0;32m/usr/local/lib/python3.7/dist-packages/joblib/parallel.py\u001b[0m in \u001b[0;36m__call__\u001b[0;34m(self, iterable)\u001b[0m\n\u001b[1;32m   1039\u001b[0m             \u001b[0;31m# remaining jobs.\u001b[0m\u001b[0;34m\u001b[0m\u001b[0;34m\u001b[0m\u001b[0;34m\u001b[0m\u001b[0m\n\u001b[1;32m   1040\u001b[0m             \u001b[0mself\u001b[0m\u001b[0;34m.\u001b[0m\u001b[0m_iterating\u001b[0m \u001b[0;34m=\u001b[0m \u001b[0;32mFalse\u001b[0m\u001b[0;34m\u001b[0m\u001b[0;34m\u001b[0m\u001b[0m\n\u001b[0;32m-> 1041\u001b[0;31m             \u001b[0;32mif\u001b[0m \u001b[0mself\u001b[0m\u001b[0;34m.\u001b[0m\u001b[0mdispatch_one_batch\u001b[0m\u001b[0;34m(\u001b[0m\u001b[0miterator\u001b[0m\u001b[0;34m)\u001b[0m\u001b[0;34m:\u001b[0m\u001b[0;34m\u001b[0m\u001b[0;34m\u001b[0m\u001b[0m\n\u001b[0m\u001b[1;32m   1042\u001b[0m                 \u001b[0mself\u001b[0m\u001b[0;34m.\u001b[0m\u001b[0m_iterating\u001b[0m \u001b[0;34m=\u001b[0m \u001b[0mself\u001b[0m\u001b[0;34m.\u001b[0m\u001b[0m_original_iterator\u001b[0m \u001b[0;32mis\u001b[0m \u001b[0;32mnot\u001b[0m \u001b[0;32mNone\u001b[0m\u001b[0;34m\u001b[0m\u001b[0;34m\u001b[0m\u001b[0m\n\u001b[1;32m   1043\u001b[0m \u001b[0;34m\u001b[0m\u001b[0m\n",
            "\u001b[0;32m/usr/local/lib/python3.7/dist-packages/joblib/parallel.py\u001b[0m in \u001b[0;36mdispatch_one_batch\u001b[0;34m(self, iterator)\u001b[0m\n\u001b[1;32m    857\u001b[0m                 \u001b[0;32mreturn\u001b[0m \u001b[0;32mFalse\u001b[0m\u001b[0;34m\u001b[0m\u001b[0;34m\u001b[0m\u001b[0m\n\u001b[1;32m    858\u001b[0m             \u001b[0;32melse\u001b[0m\u001b[0;34m:\u001b[0m\u001b[0;34m\u001b[0m\u001b[0;34m\u001b[0m\u001b[0m\n\u001b[0;32m--> 859\u001b[0;31m                 \u001b[0mself\u001b[0m\u001b[0;34m.\u001b[0m\u001b[0m_dispatch\u001b[0m\u001b[0;34m(\u001b[0m\u001b[0mtasks\u001b[0m\u001b[0;34m)\u001b[0m\u001b[0;34m\u001b[0m\u001b[0;34m\u001b[0m\u001b[0m\n\u001b[0m\u001b[1;32m    860\u001b[0m                 \u001b[0;32mreturn\u001b[0m \u001b[0;32mTrue\u001b[0m\u001b[0;34m\u001b[0m\u001b[0;34m\u001b[0m\u001b[0m\n\u001b[1;32m    861\u001b[0m \u001b[0;34m\u001b[0m\u001b[0m\n",
            "\u001b[0;32m/usr/local/lib/python3.7/dist-packages/joblib/parallel.py\u001b[0m in \u001b[0;36m_dispatch\u001b[0;34m(self, batch)\u001b[0m\n\u001b[1;32m    775\u001b[0m         \u001b[0;32mwith\u001b[0m \u001b[0mself\u001b[0m\u001b[0;34m.\u001b[0m\u001b[0m_lock\u001b[0m\u001b[0;34m:\u001b[0m\u001b[0;34m\u001b[0m\u001b[0;34m\u001b[0m\u001b[0m\n\u001b[1;32m    776\u001b[0m             \u001b[0mjob_idx\u001b[0m \u001b[0;34m=\u001b[0m \u001b[0mlen\u001b[0m\u001b[0;34m(\u001b[0m\u001b[0mself\u001b[0m\u001b[0;34m.\u001b[0m\u001b[0m_jobs\u001b[0m\u001b[0;34m)\u001b[0m\u001b[0;34m\u001b[0m\u001b[0;34m\u001b[0m\u001b[0m\n\u001b[0;32m--> 777\u001b[0;31m             \u001b[0mjob\u001b[0m \u001b[0;34m=\u001b[0m \u001b[0mself\u001b[0m\u001b[0;34m.\u001b[0m\u001b[0m_backend\u001b[0m\u001b[0;34m.\u001b[0m\u001b[0mapply_async\u001b[0m\u001b[0;34m(\u001b[0m\u001b[0mbatch\u001b[0m\u001b[0;34m,\u001b[0m \u001b[0mcallback\u001b[0m\u001b[0;34m=\u001b[0m\u001b[0mcb\u001b[0m\u001b[0;34m)\u001b[0m\u001b[0;34m\u001b[0m\u001b[0;34m\u001b[0m\u001b[0m\n\u001b[0m\u001b[1;32m    778\u001b[0m             \u001b[0;31m# A job can complete so quickly than its callback is\u001b[0m\u001b[0;34m\u001b[0m\u001b[0;34m\u001b[0m\u001b[0;34m\u001b[0m\u001b[0m\n\u001b[1;32m    779\u001b[0m             \u001b[0;31m# called before we get here, causing self._jobs to\u001b[0m\u001b[0;34m\u001b[0m\u001b[0;34m\u001b[0m\u001b[0;34m\u001b[0m\u001b[0m\n",
            "\u001b[0;32m/usr/local/lib/python3.7/dist-packages/joblib/_parallel_backends.py\u001b[0m in \u001b[0;36mapply_async\u001b[0;34m(self, func, callback)\u001b[0m\n\u001b[1;32m    206\u001b[0m     \u001b[0;32mdef\u001b[0m \u001b[0mapply_async\u001b[0m\u001b[0;34m(\u001b[0m\u001b[0mself\u001b[0m\u001b[0;34m,\u001b[0m \u001b[0mfunc\u001b[0m\u001b[0;34m,\u001b[0m \u001b[0mcallback\u001b[0m\u001b[0;34m=\u001b[0m\u001b[0;32mNone\u001b[0m\u001b[0;34m)\u001b[0m\u001b[0;34m:\u001b[0m\u001b[0;34m\u001b[0m\u001b[0;34m\u001b[0m\u001b[0m\n\u001b[1;32m    207\u001b[0m         \u001b[0;34m\"\"\"Schedule a func to be run\"\"\"\u001b[0m\u001b[0;34m\u001b[0m\u001b[0;34m\u001b[0m\u001b[0m\n\u001b[0;32m--> 208\u001b[0;31m         \u001b[0mresult\u001b[0m \u001b[0;34m=\u001b[0m \u001b[0mImmediateResult\u001b[0m\u001b[0;34m(\u001b[0m\u001b[0mfunc\u001b[0m\u001b[0;34m)\u001b[0m\u001b[0;34m\u001b[0m\u001b[0;34m\u001b[0m\u001b[0m\n\u001b[0m\u001b[1;32m    209\u001b[0m         \u001b[0;32mif\u001b[0m \u001b[0mcallback\u001b[0m\u001b[0;34m:\u001b[0m\u001b[0;34m\u001b[0m\u001b[0;34m\u001b[0m\u001b[0m\n\u001b[1;32m    210\u001b[0m             \u001b[0mcallback\u001b[0m\u001b[0;34m(\u001b[0m\u001b[0mresult\u001b[0m\u001b[0;34m)\u001b[0m\u001b[0;34m\u001b[0m\u001b[0;34m\u001b[0m\u001b[0m\n",
            "\u001b[0;32m/usr/local/lib/python3.7/dist-packages/joblib/_parallel_backends.py\u001b[0m in \u001b[0;36m__init__\u001b[0;34m(self, batch)\u001b[0m\n\u001b[1;32m    570\u001b[0m         \u001b[0;31m# Don't delay the application, to avoid keeping the input\u001b[0m\u001b[0;34m\u001b[0m\u001b[0;34m\u001b[0m\u001b[0;34m\u001b[0m\u001b[0m\n\u001b[1;32m    571\u001b[0m         \u001b[0;31m# arguments in memory\u001b[0m\u001b[0;34m\u001b[0m\u001b[0;34m\u001b[0m\u001b[0;34m\u001b[0m\u001b[0m\n\u001b[0;32m--> 572\u001b[0;31m         \u001b[0mself\u001b[0m\u001b[0;34m.\u001b[0m\u001b[0mresults\u001b[0m \u001b[0;34m=\u001b[0m \u001b[0mbatch\u001b[0m\u001b[0;34m(\u001b[0m\u001b[0;34m)\u001b[0m\u001b[0;34m\u001b[0m\u001b[0;34m\u001b[0m\u001b[0m\n\u001b[0m\u001b[1;32m    573\u001b[0m \u001b[0;34m\u001b[0m\u001b[0m\n\u001b[1;32m    574\u001b[0m     \u001b[0;32mdef\u001b[0m \u001b[0mget\u001b[0m\u001b[0;34m(\u001b[0m\u001b[0mself\u001b[0m\u001b[0;34m)\u001b[0m\u001b[0;34m:\u001b[0m\u001b[0;34m\u001b[0m\u001b[0;34m\u001b[0m\u001b[0m\n",
            "\u001b[0;32m/usr/local/lib/python3.7/dist-packages/joblib/parallel.py\u001b[0m in \u001b[0;36m__call__\u001b[0;34m(self)\u001b[0m\n\u001b[1;32m    261\u001b[0m         \u001b[0;32mwith\u001b[0m \u001b[0mparallel_backend\u001b[0m\u001b[0;34m(\u001b[0m\u001b[0mself\u001b[0m\u001b[0;34m.\u001b[0m\u001b[0m_backend\u001b[0m\u001b[0;34m,\u001b[0m \u001b[0mn_jobs\u001b[0m\u001b[0;34m=\u001b[0m\u001b[0mself\u001b[0m\u001b[0;34m.\u001b[0m\u001b[0m_n_jobs\u001b[0m\u001b[0;34m)\u001b[0m\u001b[0;34m:\u001b[0m\u001b[0;34m\u001b[0m\u001b[0;34m\u001b[0m\u001b[0m\n\u001b[1;32m    262\u001b[0m             return [func(*args, **kwargs)\n\u001b[0;32m--> 263\u001b[0;31m                     for func, args, kwargs in self.items]\n\u001b[0m\u001b[1;32m    264\u001b[0m \u001b[0;34m\u001b[0m\u001b[0m\n\u001b[1;32m    265\u001b[0m     \u001b[0;32mdef\u001b[0m \u001b[0m__reduce__\u001b[0m\u001b[0;34m(\u001b[0m\u001b[0mself\u001b[0m\u001b[0;34m)\u001b[0m\u001b[0;34m:\u001b[0m\u001b[0;34m\u001b[0m\u001b[0;34m\u001b[0m\u001b[0m\n",
            "\u001b[0;32m/usr/local/lib/python3.7/dist-packages/joblib/parallel.py\u001b[0m in \u001b[0;36m<listcomp>\u001b[0;34m(.0)\u001b[0m\n\u001b[1;32m    261\u001b[0m         \u001b[0;32mwith\u001b[0m \u001b[0mparallel_backend\u001b[0m\u001b[0;34m(\u001b[0m\u001b[0mself\u001b[0m\u001b[0;34m.\u001b[0m\u001b[0m_backend\u001b[0m\u001b[0;34m,\u001b[0m \u001b[0mn_jobs\u001b[0m\u001b[0;34m=\u001b[0m\u001b[0mself\u001b[0m\u001b[0;34m.\u001b[0m\u001b[0m_n_jobs\u001b[0m\u001b[0;34m)\u001b[0m\u001b[0;34m:\u001b[0m\u001b[0;34m\u001b[0m\u001b[0;34m\u001b[0m\u001b[0m\n\u001b[1;32m    262\u001b[0m             return [func(*args, **kwargs)\n\u001b[0;32m--> 263\u001b[0;31m                     for func, args, kwargs in self.items]\n\u001b[0m\u001b[1;32m    264\u001b[0m \u001b[0;34m\u001b[0m\u001b[0m\n\u001b[1;32m    265\u001b[0m     \u001b[0;32mdef\u001b[0m \u001b[0m__reduce__\u001b[0m\u001b[0;34m(\u001b[0m\u001b[0mself\u001b[0m\u001b[0;34m)\u001b[0m\u001b[0;34m:\u001b[0m\u001b[0;34m\u001b[0m\u001b[0;34m\u001b[0m\u001b[0m\n",
            "\u001b[0;32m/usr/local/lib/python3.7/dist-packages/sklearn/model_selection/_validation.py\u001b[0m in \u001b[0;36m_fit_and_score\u001b[0;34m(estimator, X, y, scorer, train, test, verbose, parameters, fit_params, return_train_score, return_parameters, return_n_test_samples, return_times, return_estimator, error_score)\u001b[0m\n\u001b[1;32m    502\u001b[0m             \u001b[0mcloned_parameters\u001b[0m\u001b[0;34m[\u001b[0m\u001b[0mk\u001b[0m\u001b[0;34m]\u001b[0m \u001b[0;34m=\u001b[0m \u001b[0mclone\u001b[0m\u001b[0;34m(\u001b[0m\u001b[0mv\u001b[0m\u001b[0;34m,\u001b[0m \u001b[0msafe\u001b[0m\u001b[0;34m=\u001b[0m\u001b[0;32mFalse\u001b[0m\u001b[0;34m)\u001b[0m\u001b[0;34m\u001b[0m\u001b[0;34m\u001b[0m\u001b[0m\n\u001b[1;32m    503\u001b[0m \u001b[0;34m\u001b[0m\u001b[0m\n\u001b[0;32m--> 504\u001b[0;31m         \u001b[0mestimator\u001b[0m \u001b[0;34m=\u001b[0m \u001b[0mestimator\u001b[0m\u001b[0;34m.\u001b[0m\u001b[0mset_params\u001b[0m\u001b[0;34m(\u001b[0m\u001b[0;34m**\u001b[0m\u001b[0mcloned_parameters\u001b[0m\u001b[0;34m)\u001b[0m\u001b[0;34m\u001b[0m\u001b[0;34m\u001b[0m\u001b[0m\n\u001b[0m\u001b[1;32m    505\u001b[0m \u001b[0;34m\u001b[0m\u001b[0m\n\u001b[1;32m    506\u001b[0m     \u001b[0mstart_time\u001b[0m \u001b[0;34m=\u001b[0m \u001b[0mtime\u001b[0m\u001b[0;34m.\u001b[0m\u001b[0mtime\u001b[0m\u001b[0;34m(\u001b[0m\u001b[0;34m)\u001b[0m\u001b[0;34m\u001b[0m\u001b[0;34m\u001b[0m\u001b[0m\n",
            "\u001b[0;32m/usr/local/lib/python3.7/dist-packages/sklearn/base.py\u001b[0m in \u001b[0;36mset_params\u001b[0;34m(self, **params)\u001b[0m\n\u001b[1;32m    234\u001b[0m                                  \u001b[0;34m'Check the list of available parameters '\u001b[0m\u001b[0;34m\u001b[0m\u001b[0;34m\u001b[0m\u001b[0m\n\u001b[1;32m    235\u001b[0m                                  \u001b[0;34m'with `estimator.get_params().keys()`.'\u001b[0m \u001b[0;34m%\u001b[0m\u001b[0;34m\u001b[0m\u001b[0;34m\u001b[0m\u001b[0m\n\u001b[0;32m--> 236\u001b[0;31m                                  (key, self))\n\u001b[0m\u001b[1;32m    237\u001b[0m \u001b[0;34m\u001b[0m\u001b[0m\n\u001b[1;32m    238\u001b[0m             \u001b[0;32mif\u001b[0m \u001b[0mdelim\u001b[0m\u001b[0;34m:\u001b[0m\u001b[0;34m\u001b[0m\u001b[0;34m\u001b[0m\u001b[0m\n",
            "\u001b[0;31mValueError\u001b[0m: Invalid parameter max.depth for estimator GradientBoostingRegressor(alpha=0.9, ccp_alpha=0.0, criterion='friedman_mse',\n                          init=None, learning_rate=0.1, loss='ls', max_depth=3,\n                          max_features=None, max_leaf_nodes=None,\n                          min_impurity_decrease=0.0, min_impurity_split=None,\n                          min_samples_leaf=1, min_samples_split=2,\n                          min_weight_fraction_leaf=0.0, n_estimators=100,\n                          n_iter_no_change=None, presort='deprecated',\n                          random_state=None, subsample=1.0, tol=0.0001,\n                          validation_fraction=0.1, verbose=0, warm_start=False). Check the list of available parameters with `estimator.get_params().keys()`."
          ]
        }
      ]
    },
    {
      "cell_type": "markdown",
      "metadata": {
        "id": "zB5RfdoKyKXa"
      },
      "source": [
        "## 最优模型\n",
        "将决策树回归函数代入训练数据的集合，以得到最优化的模型。"
      ]
    },
    {
      "cell_type": "code",
      "metadata": {
        "id": "oQlTR3aSyKXa",
        "colab": {
          "base_uri": "https://localhost:8080/"
        },
        "outputId": "029f0825-7b11-46cd-f07c-3bc8443e48bd"
      },
      "source": [
        "from sklearn.preprocessing import StandardScaler\n",
        "# 3.特征工程-标准化\n",
        "transfer = StandardScaler()\n",
        "x_train = transfer.fit_transform(X_train)\n",
        "x_test = transfer.fit_transform(X_test)\n",
        "\n",
        "# 4.机器学习-线性回归(岭回归)【重要】\n",
        "# 4.1 创建模型 实例化估计器\n",
        "estimator = Ridge(alpha=1)#(alpha表示正则的程度）\n",
        "# 4.2 训练模型 fit 正规方程计算得到最优可训练参数\n",
        "estimator.fit(X_train, y_train)\n",
        "\n",
        "#保存模型\n",
        "joblib.dump(estimator,'./model.pkl')#注意用文本打开是错误的，只能加载！！\n",
        "\n",
        "# 5.模型评估\n",
        "# 5.1 获取系数等值\n",
        "y_predict = estimator.predict(X_test)\n",
        "print(\"预测值为:\\n\", y_predict)\n",
        "print(\"模型中的系数为:\\n\", estimator.coef_)\n",
        "print(\"模型中的偏置为:\\n\", estimator.intercept_)\n",
        "# 5.2 评价\n",
        "# 均方误差\n",
        "error = mean_squared_error(y_test, y_predict)\n",
        "print(\"误差为:\\n\", error)"
      ],
      "execution_count": null,
      "outputs": [
        {
          "output_type": "stream",
          "text": [
            "预测值为:\n",
            " [15.41474181 27.67385814 38.91096341 17.93850884 30.56432352 38.11959508\n",
            " 25.46426373 10.06599298 14.05346064 31.91178993 28.66252764 19.6186771\n",
            " 13.79776964 31.10106212 16.98103507 21.32689071 20.75609768 37.90251373\n",
            " 18.17275623 15.17723806 13.83741404 24.25234819 32.97306654 39.02298372\n",
            " 31.06539273 22.27774084 18.02434424 21.07951621 23.44156002 20.20969863\n",
            " 25.8758938  33.89326731 15.24125427 21.86549101 23.55451403 34.90492937\n",
            " 29.06373689 18.70135244 14.0201236  38.03364524 30.93213893 18.62584975\n",
            " 19.52976164 39.85791297  7.58525952 27.02562925 19.76925618 25.58930666\n",
            " 15.66646037 25.90725614 34.57589276 24.15257841 20.0943251  12.49389348\n",
            " 23.97640411 18.39910689 10.85719625  2.28168721 32.12428378 13.71626515\n",
            " 20.20688268 22.89727354 21.18323798 18.12016194 24.74959609 26.87247563\n",
            " 25.93490528 21.60301644 24.4940454  30.25172932 20.2314519  28.42329824\n",
            " 15.54882444 24.7681247  20.01515427 17.9731661  17.75043632 16.51074495\n",
            " 28.99782675 -1.19500063 32.33943694 13.05268241 25.15397935 20.58169784\n",
            " 14.170428   23.20931397 18.76986687 24.70365612 19.5171153  31.8981448\n",
            " 15.92175608 34.2338877  22.7820955  25.51279291 31.24324375 28.72677262\n",
            " 18.61781459 31.39275534 28.00034314 36.14219225 16.66155801 16.00413736]\n",
            "模型中的系数为:\n",
            " [-9.61349688e-02  4.78865533e-02  3.89249382e-02  1.08839162e+00\n",
            " -8.54108900e+00  4.38347501e+00 -7.52222105e-03 -1.26565701e+00\n",
            "  2.67244306e-01 -1.32867762e-02 -8.35013825e-01  7.53577625e-03\n",
            " -5.51499341e-01]\n",
            "模型中的偏置为:\n",
            " 26.888573080527635\n",
            "误差为:\n",
            " 28.93216989681372\n"
          ],
          "name": "stdout"
        }
      ]
    },
    {
      "cell_type": "markdown",
      "metadata": {
        "id": "dfPsCh1LyKXb"
      },
      "source": [
        "## 预测销售价格\n",
        "使用你优化的模型来为每位客户的房屋价值做出预测。"
      ]
    },
    {
      "cell_type": "code",
      "metadata": {
        "id": "eshuw_RAyKXd"
      },
      "source": [
        "def fit_model(X, y):\n",
        "    # Performs grid search over the 'max_depth' parameter for a \n",
        "    #  decision tree regressor trained on the input data [X, y].\n",
        "\n",
        "    # Create cross-validation sets from the training data\n",
        "    # ShuffleSplit works iteratively compared to KFOLD\n",
        "    # It saves computation time when your dataset grows\n",
        "    # X.shape[0] is the total number of elements\n",
        "    # n_iter is the number of re-shuffling & splitting iterations.\n",
        "    cv_sets = ShuffleSplit(X.shape[0], test_size = 0.20, random_state = 0)\n",
        "\n",
        "    # TODO: Create a decision tree regressor object\n",
        "    # Instantiate\n",
        "    regressor = DecisionTreeRegressor(random_state=0)\n",
        "\n",
        "    # TODO: Create a dictionary for the parameter 'max_depth' with a range from 1 to 10\n",
        "    dt_range = range(1, 11)\n",
        "    params = dict(max_depth=dt_range)\n",
        "\n",
        "    # TODO: Transform 'performance_metric' into a scoring function using 'make_scorer' \n",
        "    # We initially created performance_metric using R2_score\n",
        "    scoring_fnc = make_scorer(performance_metric)\n",
        "\n",
        "    # TODO: Create the grid search object\n",
        "    # You would realize we manually created each, including scoring_func using R^2\n",
        "    grid = GridSearchCV(regressor, params, cv=cv_sets, scoring=scoring_fnc)\n",
        "\n",
        "    # Fit the grid search object to the data to compute the optimal model\n",
        "    grid = grid.fit(X, y)\n",
        "\n",
        "    # Return the optimal model after fitting the data\n",
        "    return grid.best_estimator_"
      ],
      "execution_count": null,
      "outputs": []
    },
    {
      "cell_type": "code",
      "metadata": {
        "id": "nD_eyAPVyKXb",
        "colab": {
          "base_uri": "https://localhost:8080/"
        },
        "outputId": "57075d05-9626-4982-de5c-1bf504a6a1d3"
      },
      "source": [
        "# TODO: Import 'train_test_split'\n",
        "train_data=pd.read_csv('bostonh.csv',sep='\\s+',encoding='utf-8')\n",
        "from sklearn.model_selection import train_test_split\n",
        "prices = train_data['MEDV']#TODO：提取SalePrice作为labels\n",
        "features = train_data.drop(['MEDV'], axis=1)#TODO：提取除了SalePrice以外的特征赋值为features\n",
        "\n",
        "# TODO: Shuffle and split the data into training and testing subsets\n",
        "X_train, X_test, y_train, y_test = train_test_split(features, prices, \n",
        "                                                    train_size=0.8, random_state=123)\n",
        "# Success\n",
        "print(\"Training and testing split was successful.\")"
      ],
      "execution_count": null,
      "outputs": [
        {
          "output_type": "stream",
          "text": [
            "Training and testing split was successful.\n"
          ],
          "name": "stdout"
        }
      ]
    },
    {
      "cell_type": "code",
      "metadata": {
        "id": "h5CaiqXLyKXb",
        "colab": {
          "base_uri": "https://localhost:8080/"
        },
        "outputId": "8b2a44b6-3848-4390-96a1-07fc9a076a21"
      },
      "source": [
        "from sklearn.metrics import make_scorer\n",
        "# Fit the training data to the model using grid search\n",
        "reg = fit_model(X_train, y_train)\n",
        "\n",
        "# Produce the value for 'max_depth'\n",
        "print(\"Parameter 'max_depth' is {} for the optimal model.\".format(reg.get_params()['max_depth']))"
      ],
      "execution_count": null,
      "outputs": [
        {
          "output_type": "stream",
          "text": [
            "Parameter 'max_depth' is 5 for the optimal model.\n"
          ],
          "name": "stdout"
        }
      ]
    },
    {
      "cell_type": "code",
      "metadata": {
        "id": "E4LKtu-SyKXc",
        "colab": {
          "base_uri": "https://localhost:8080/",
          "height": 132
        },
        "outputId": "0dbf32dd-11b9-4518-a9b9-d89bb3ad2302"
      },
      "source": [
        "# Produce a matrix for client data\n",
        "client_data = [[5, 17, 15], # Client 1\n",
        "               [4, 32, 22], # Client 2\n",
        "               [8, 3, 12]]  # Client 3\n",
        "\n",
        "# Show predictions\n",
        "for i, price in enumerate(reg.predict(client_data)):\n",
        "    print(\"Predicted selling price for Client {}'s home: ${:,.2f}\".format(i+1, price))"
      ],
      "execution_count": null,
      "outputs": [
        {
          "output_type": "error",
          "ename": "SyntaxError",
          "evalue": "ignored",
          "traceback": [
            "\u001b[0;36m  File \u001b[0;32m\"<ipython-input-90-101e3df801a4>\"\u001b[0;36m, line \u001b[0;32m8\u001b[0m\n\u001b[0;31m    print(\"Predicted selling price for Client {}'s home: ${:,.2f}\".format(i+1, 'MEDV')\u001b[0m\n\u001b[0m                                                                                      ^\u001b[0m\n\u001b[0;31mSyntaxError\u001b[0m\u001b[0;31m:\u001b[0m unexpected EOF while parsing\n"
          ]
        }
      ]
    },
    {
      "cell_type": "markdown",
      "metadata": {
        "id": "rSkfcT5nyKXc"
      },
      "source": [
        " 我会建议客户按照上面的建议去销售，从房间数量，贫困指数，师生比例来看，建议的价格是合理的。"
      ]
    },
    {
      "cell_type": "markdown",
      "metadata": {
        "id": "idRsqUz4yKXc"
      },
      "source": [
        "# 模型的鲁棒性\n",
        "一个最优的模型不一定是一个健壮模型。有的时候模型会过于复杂或者过于简单，以致于难以泛化新增添的数据；有的时候模型采用的学习算法并不适用于特定的数据结构；有的时候样本本身可能有太多噪点或样本过少，使得模型无法准确地预测目标变量。这些情况下我们会说模型是欠拟合的。执行下方区域中的代码，采用不同的训练和测试集执行 fit_model 函数10次。注意观察对一个特定的客户来说，预测是如何随训练数据的变化而变化的。"
      ]
    },
    {
      "cell_type": "code",
      "metadata": {
        "id": "F6yx7qZryKXd",
        "colab": {
          "base_uri": "https://localhost:8080/",
          "height": 451
        },
        "outputId": "b4a1f726-e288-4d06-e792-faf4bb5dba1e"
      },
      "source": [
        "# 请先注释掉 fit_model 函数里的所有 print 语句\n",
        "from sklearn.metrics import make_scorer\n",
        "vs.PredictTrials(Xall, yall, fit_model, Xall[:1].values)"
      ],
      "execution_count": null,
      "outputs": [
        {
          "output_type": "stream",
          "text": [
            "Trial 1: $23.85\n",
            "Trial 2: $25.22\n",
            "Trial 3: $24.85\n",
            "Trial 4: $27.02\n",
            "Trial 5: $26.63\n",
            "Trial 6: $30.55\n",
            "Trial 7: $29.97\n",
            "Trial 8: $27.16\n",
            "Trial 9: $30.38\n",
            "Trial 10: $22.69\n"
          ],
          "name": "stdout"
        },
        {
          "output_type": "error",
          "ename": "NameError",
          "evalue": "ignored",
          "traceback": [
            "\u001b[0;31m---------------------------------------------------------------------------\u001b[0m",
            "\u001b[0;31mNameError\u001b[0m                                 Traceback (most recent call last)",
            "\u001b[0;32m<ipython-input-86-e34dfc8c0926>\u001b[0m in \u001b[0;36m<module>\u001b[0;34m()\u001b[0m\n\u001b[1;32m      1\u001b[0m \u001b[0;31m# 请先注释掉 fit_model 函数里的所有 print 语句\u001b[0m\u001b[0;34m\u001b[0m\u001b[0;34m\u001b[0m\u001b[0;34m\u001b[0m\u001b[0m\n\u001b[1;32m      2\u001b[0m \u001b[0;32mfrom\u001b[0m \u001b[0msklearn\u001b[0m\u001b[0;34m.\u001b[0m\u001b[0mmetrics\u001b[0m \u001b[0;32mimport\u001b[0m \u001b[0mmake_scorer\u001b[0m\u001b[0;34m\u001b[0m\u001b[0;34m\u001b[0m\u001b[0m\n\u001b[0;32m----> 3\u001b[0;31m \u001b[0mvs\u001b[0m\u001b[0;34m.\u001b[0m\u001b[0mPredictTrials\u001b[0m\u001b[0;34m(\u001b[0m\u001b[0mXall\u001b[0m\u001b[0;34m,\u001b[0m \u001b[0myall\u001b[0m\u001b[0;34m,\u001b[0m \u001b[0mfit_model\u001b[0m\u001b[0;34m,\u001b[0m \u001b[0mXall\u001b[0m\u001b[0;34m[\u001b[0m\u001b[0;34m:\u001b[0m\u001b[0;36m1\u001b[0m\u001b[0;34m]\u001b[0m\u001b[0;34m.\u001b[0m\u001b[0mvalues\u001b[0m\u001b[0;34m)\u001b[0m\u001b[0;34m\u001b[0m\u001b[0;34m\u001b[0m\u001b[0m\n\u001b[0m",
            "\u001b[0;32m/content/Boston_house_price/Demo/visuals.py\u001b[0m in \u001b[0;36mPredictTrials\u001b[0;34m(X, y, fitter, data)\u001b[0m\n\u001b[1;32m    141\u001b[0m \u001b[0;34m\u001b[0m\u001b[0m\n\u001b[1;32m    142\u001b[0m     \u001b[0;31m# Display price range\u001b[0m\u001b[0;34m\u001b[0m\u001b[0;34m\u001b[0m\u001b[0;34m\u001b[0m\u001b[0m\n\u001b[0;32m--> 143\u001b[0;31m     \u001b[0mprint\u001b[0m\u001b[0;34m(\u001b[0m\u001b[0;34m\"\\nRange in prices: ${:,.2f}\"\u001b[0m\u001b[0;34m.\u001b[0m\u001b[0mformat\u001b[0m\u001b[0;34m(\u001b[0m\u001b[0mmax\u001b[0m\u001b[0;34m(\u001b[0m\u001b[0mMEDV\u001b[0m\u001b[0;34m)\u001b[0m \u001b[0;34m-\u001b[0m \u001b[0mmin\u001b[0m\u001b[0;34m(\u001b[0m\u001b[0mMEDV\u001b[0m\u001b[0;34m)\u001b[0m\u001b[0;34m)\u001b[0m\u001b[0;34m)\u001b[0m\u001b[0;34m\u001b[0m\u001b[0;34m\u001b[0m\u001b[0m\n\u001b[0m",
            "\u001b[0;31mNameError\u001b[0m: name 'MEDV' is not defined"
          ]
        }
      ]
    },
    {
      "cell_type": "markdown",
      "metadata": {
        "id": "bMaX4nt-yKXd"
      },
      "source": [
        "## 决策树基准测试\n",
        "R2 大概在0.7左右"
      ]
    },
    {
      "cell_type": "code",
      "metadata": {
        "id": "SCr0uJI_yKXd",
        "outputId": "e3ff6765-523a-4d7f-d48c-154c39a5d6e1"
      },
      "source": [
        "vs.ModelComplexity(X_train, y_train)"
      ],
      "execution_count": null,
      "outputs": [
        {
          "output_type": "display_data",
          "data": {
            "image/png": "[encoded data removed]",
            "text/plain": [
              "<Figure size 504x360 with 1 Axes>"
            ]
          },
          "metadata": {
            "tags": [],
            "needs_background": "light"
          }
        }
      ]
    },
    {
      "cell_type": "code",
      "metadata": {
        "id": "TnBOc51kyKXe",
        "colab": {
          "base_uri": "https://localhost:8080/"
        },
        "outputId": "f8aabd0f-0ff4-4dd5-9191-6bb86f48cca8"
      },
      "source": [
        "from sklearn.ensemble import ExtraTreesRegressor\n",
        "\n",
        "cv_sets = ShuffleSplit(X_train.shape[0], test_size=0.20, random_state=0)\n",
        "scoring_fnc = make_scorer(performance_metric)\n",
        "\n",
        "params = {'n_estimators': range(20, 40, 3)}\n",
        "grid = GridSearchCV(ExtraTreesRegressor(random_state=0), params, scoring_fnc, cv=cv_sets)\n",
        "grid.fit(X_train, y_train)\n",
        "print(grid.best_score_)\n",
        "reg = grid.best_estimator_\n",
        "reg.get_params()"
      ],
      "execution_count": null,
      "outputs": [
        {
          "output_type": "stream",
          "text": [
            "0.8809001016534717\n"
          ],
          "name": "stdout"
        },
        {
          "output_type": "execute_result",
          "data": {
            "text/plain": [
              "{'bootstrap': False,\n",
              " 'ccp_alpha': 0.0,\n",
              " 'criterion': 'mse',\n",
              " 'max_depth': None,\n",
              " 'max_features': 'auto',\n",
              " 'max_leaf_nodes': None,\n",
              " 'max_samples': None,\n",
              " 'min_impurity_decrease': 0.0,\n",
              " 'min_impurity_split': None,\n",
              " 'min_samples_leaf': 1,\n",
              " 'min_samples_split': 2,\n",
              " 'min_weight_fraction_leaf': 0.0,\n",
              " 'n_estimators': 38,\n",
              " 'n_jobs': None,\n",
              " 'oob_score': False,\n",
              " 'random_state': 0,\n",
              " 'verbose': 0,\n",
              " 'warm_start': False}"
            ]
          },
          "metadata": {
            "tags": []
          },
          "execution_count": 91
        }
      ]
    },
    {
      "cell_type": "markdown",
      "metadata": {
        "id": "9iCrqlJGyKXe"
      },
      "source": [
        "# 实用性探讨\n",
        "简单地讨论一下你建构的模型能否在现实世界中使用？\n",
        "\n",
        "尽管此模型最终预测效果良好，但在尝试使用给定参数预测给定新数据点的房价时，在实际环境中使用此模型之前，我们需要解决一些缺陷：\n",
        "首先，以上预测使用的是1978年房价数据。由于通胀、动乱等政治经济社会因素的影响，若将该模型的特征用于如今的房价预测可能效果不会很显著，\n",
        "也许有一些与如今房价更紧密的特征（如：与学校的距离等）未被纳入此模型。\n",
        "其次，一个社区内的房价也可能有很大差别（美国有不少贫民窟紧挨富人区），而我们的预测模型有将同一社区房价同质化的缺点。\n",
        "再者，在城市中收集的数据不适用于农村城市，因为城市和农村都具有不同的特征，每个特征的值也不同。（总之，统计数据的采集过程可能有诸多细节有待优化。）\n",
        "\n",
        "可以从这几个角度分析：\n",
        "\n",
        "1978年所采集的数据，在今天是否仍然适用？\n",
        "数据中呈现的特征是否足够描述一个房屋？\n",
        "模型是否足够健壮来保证预测的一致性？\n",
        "在波士顿这样的大都市采集的数据，能否应用在其它乡镇地区？\n",
        "\n",
        "答案:\n",
        "1987年的数据在今天肯定是不适用了，但是在学习机器学习的目的来看，还是十分有意义的。\n",
        "数据中呈现的特征已经尽可能去描述房屋的各项指标了，但是肯定是不够的，最终客户还是有必要去看房。\n",
        "模型的健壮性还是不够的，经过十次训练，价格的极差竟然高达 $69,044.61，是房屋平均价格的17%。因此模型还有待改善。"
      ]
    },
    {
      "cell_type": "markdown",
      "metadata": {
        "uuid": "2d0f0a96-8582-4428-8942-1c5a0402c9a5",
        "id": "943fVu_tyKXe"
      },
      "source": [
        "## 相对平方误差（Relative Squared Error，RSE）\n",
        "## 相对绝对误差（Relative Absolute Error，RAE)\n",
        "## 决定系数 (Coefficient of Determination)\n",
        "\n",
        "事实上，当threshold取0.5时线性回归模型的rse、rae、r2综合得分较低。\n",
        "r2_score——拟合优度，一种回归评价指标，其含义是也是解释回归模型的方差得分，其值取值范围是[0,1]，越接近于1说明自变量越能解释因变量的方差变化，值越小则说明效果越差。"
      ]
    },
    {
      "cell_type": "code",
      "metadata": {
        "uuid": "8d02068a-c487-464c-90d4-83ae39a3bc21",
        "id": "_bKM619EyKXf"
      },
      "source": [
        "#可视化训练过程中的损失值\n",
        "# 迭代轮次\n",
        "train_epochs = 50 \n",
        "\n",
        "# 学习率\n",
        "learning_rate = 0.01 \n",
        "\n",
        "loss_list = [] # 用于保存loss值的列表\n",
        "\n",
        "#data_X=train_data[['CRIM','ZN','INDUS','CHAS','NOX','RM','AGE','DIS','RAD','TAX','PTRATIO','B','LSTAT']]\n",
        "#data_y=train_data[['MEDV']]\n",
        "#X_train,X_test,y_train,y_test = train_test_split(data_X, data_y, test_size = 0.1, random_state = None)\n",
        "\n",
        "for epoch in range (train_epochs):\n",
        "    loss_sum = 0.0\n",
        "    for xs, ys in zip(data_X, data_y):   \n",
        "\n",
        "        xs = xs.reshape(1,12)\n",
        "        ys = ys.reshape(1,1)\n",
        "\n",
        "        loss = sess.run([optimizer,loss_function], feed_dict={x: xs, y: ys}) \n",
        "\n",
        "        loss_sum = loss_sum + loss\n",
        "        \n",
        "        #loss_list.append(loss) # 每步添加一次\n",
        "    \n",
        "    # 打乱数据顺序\n",
        "    data_X, data_y = shuffle(data_X, data_y)\n",
        "    \n",
        "    b0temp=b.eval(session=sess)\n",
        "    w0temp=w.eval(session=sess)\n",
        "    loss_average = loss_sum/len(y_data)\n",
        "    \n",
        "    loss_list.append(loss) # 每轮添加一次\n",
        "    \n",
        "    print(\"epoch=\", epoch+1,\"loss=\", loss_average,\"b=\", b0temp,\"w=\", w0temp )"
      ],
      "execution_count": null,
      "outputs": []
    },
    {
      "cell_type": "markdown",
      "metadata": {
        "id": "5wSQhnljyKXf"
      },
      "source": [
        "# 可以用于训练外部模型"
      ]
    },
    {
      "cell_type": "code",
      "metadata": {
        "uuid": "d20c3c23-84fa-453d-9110-53636e0870ce",
        "id": "ZOGiG2xhyKXf"
      },
      "source": [
        "!python3 Boston_house_price.py"
      ],
      "execution_count": null,
      "outputs": []
    },
    {
      "cell_type": "code",
      "metadata": {
        "id": "xzoEYujjyKXf"
      },
      "source": [
        "# TODO: Import 'make_scorer', 'DecisionTreeRegressor', and 'GridSearchCV'\n",
        "from sklearn.tree import DecisionTreeRegressor\n",
        "from sklearn.metrics import make_scorer\n",
        "from sklearn.grid_search import GridSearchCV\n",
        "       \n",
        "def fit_model(X, y):\n",
        "    \"\"\" Performs grid search over the 'max_depth' parameter for a \n",
        "        decision tree regressor trained on the input data [X, y]. \"\"\"\n",
        "    \n",
        "    from sklearn.model_selection import ShuffleSplit\n",
        "    from sklearn.metrics import make_scorer\n",
        "    # Create cross-validation sets from the training data\n",
        "          \n",
        "    cv_sets = ShuffleSplit(X.shape[0], test_size = 0.20, random_state = 0)\n",
        "    print (cv_sets)\n",
        "    \n",
        "    # TODO: Create a decision tree regressor object\n",
        "    regressor=GradientBoostingRegressor()\n",
        "\n",
        "    # TODO: Create a dictionary for the parameter 'max_depth' with a range from 1 to 10\n",
        "    params = {' n_estimators, : [100], * learning_rate’： [0.1], ' max.depth' : [6],' min_samples_leaf, : [3],}\n",
        "\n",
        "    # TODO: Transform 'performance_metric' into a scoring function using 'make_scorer' \n",
        "    scoring_fnc = make_scorer(performance_metric)\n",
        "\n",
        "    # TODO: Create the grid search object\n",
        "    grid = GridSearchCV(estimator=regressor, param_grid=params, scoring=scoring_fnc, cv=cv_sets)\n",
        "\n",
        "    # Fit the grid search object to the data to compute the optimal model\n",
        "    grid = grid.fit(X, y)\n",
        "\n",
        "    # Return the optimal model after fitting the data\n",
        "    return grid.best_estimator_"
      ],
      "execution_count": null,
      "outputs": []
    },
    {
      "cell_type": "code",
      "metadata": {
        "uuid": "ea78ab4f-09b7-4745-95b0-aa167c816eae",
        "id": "a3TI3768yKXf",
        "outputId": "83d96cd5-c3e6-482d-ba13-5caa93b18dfc"
      },
      "source": [
        "!python3 train.py"
      ],
      "execution_count": null,
      "outputs": [
        {
          "output_type": "stream",
          "text": [
            "Traceback (most recent call last):\n",
            "  File \"train.py\", line 121, in <module>\n",
            "    traing_data, test_data = load_data()\n",
            "  File \"train.py\", line 42, in load_data\n",
            "    maximums = training_data.max(axis=0)\n",
            "  File \"/opt/conda/lib/python3.6/site-packages/numpy/core/_methods.py\", line 39, in _amax\n",
            "    return umr_maximum(a, axis, None, out, keepdims, initial, where)\n",
            "ValueError: zero-size array to reduction operation maximum which has no identity\n"
          ],
          "name": "stdout"
        }
      ]
    },
    {
      "cell_type": "code",
      "metadata": {
        "id": "Vlec8_YUyKXg"
      },
      "source": [
        "#Import RandomizedSearchCV\n",
        "from sklearn.model_selection import RandomizedSearchCV\n",
        "\n",
        "# Create new similar function\n",
        "def fit_model_2(X, y):\n",
        "    \"\"\" Performs grid search over the 'max_depth' parameter for a \n",
        "        decision tree regressor trained on the input data [X, y]. \"\"\"\n",
        "\n",
        "    # Create cross-validation sets from the training data\n",
        "    # ShuffleSplit works iteratively compared to KFOLD\n",
        "    # It saves computation time when your dataset grows\n",
        "    # X.shape[0] is the total number of elements\n",
        "    # n_iter is the number of re-shuffling & splitting iterations.\n",
        "    cv_sets = ShuffleSplit(X.shape[0], test_size = 0.20, random_state = 0)\n",
        "\n",
        "    # TODO: Create a decision tree regressor object\n",
        "    # Instantiate\n",
        "    regressor = DecisionTreeRegressor(random_state=0)\n",
        "\n",
        "    # TODO: Create a dictionary for the parameter 'max_depth' with a range from 1 to 10\n",
        "    dt_range = range(1, 11)\n",
        "    params = dict(max_depth=dt_range)\n",
        "\n",
        "    # TODO: Transform 'performance_metric' into a scoring function using 'make_scorer' \n",
        "    # We initially created performance_metric using R2_score\n",
        "    scoring_fnc = make_scorer(performance_metric)\n",
        "\n",
        "    # TODO: Create the grid search object\n",
        "    # You would realize we manually created each, including scoring_func using R^2\n",
        "    rand = RandomizedSearchCV(regressor, params, cv=cv_sets, scoring=scoring_fnc)\n",
        "\n",
        "    # Fit the grid search object to the data to compute the optimal model\n",
        "    rand = rand.fit(X, y)\n",
        "\n",
        "    # Return the optimal model after fitting the data\n",
        "    return rand.best_estimator_"
      ],
      "execution_count": null,
      "outputs": []
    }
  ]
}